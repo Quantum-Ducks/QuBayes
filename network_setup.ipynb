{
 "cells": [
  {
   "cell_type": "code",
   "execution_count": 1,
   "metadata": {},
   "outputs": [],
   "source": [
    "# DATA SETUP"
   ]
  },
  {
   "cell_type": "code",
   "execution_count": 17,
   "metadata": {},
   "outputs": [],
   "source": [
    "import numpy as np\n",
    "import pandas as pd\n",
    "\n",
    "from qbayes_tools import *"
   ]
  },
  {
   "cell_type": "code",
   "execution_count": 18,
   "metadata": {},
   "outputs": [],
   "source": [
    "#################################################\n",
    "# COVID-19 EXAMPLES:"
   ]
  },
  {
   "cell_type": "code",
   "execution_count": 24,
   "metadata": {},
   "outputs": [],
   "source": [
    "def get_lesser_model_nodes(filename='data/lesser_model_data.csv'):\n",
    "    lesserdata = pd.read_csv(filename)\n",
    "    \n",
    "    statedataStayHome = {'MarHome' : lesserdata['MarHome'], 'AprHome' : lesserdata['AprHome'], 'MayHome' : lesserdata['MayHome'], 'JunHome' : lesserdata['JunHome']}\n",
    "    StayHome = Node(\"StayHome\", np.ndarray.flatten(np.array(pd.DataFrame(data=statedataStayHome))), states = {\"No\" : 0, \"Yes\" : 1})\n",
    "\n",
    "    statedataTests = {'MarTest' : lesserdata['MarTest'], 'AprTest' : lesserdata['AprTest'], 'MayTest' : lesserdata['MayTest'], 'JunTest' : lesserdata['JunTest']}\n",
    "    Tests = Node(\"Tests\", np.ndarray.flatten(np.array(pd.DataFrame(data=statedataTests))), states = {\"GT5\" : 0, \"LE5\" : 1})\n",
    "\n",
    "    statedataCases = {'MarCases' : lesserdata['MarCases'], 'AprCases' : lesserdata['AprCases'], 'MayCases' : lesserdata['MayCases'], 'JunCases' : lesserdata['JunCases']}\n",
    "    Cases = Node(\"Cases\", np.ndarray.flatten(np.array(pd.DataFrame(data=statedataCases))), states = {\"Inc\" : 0, \"noInc\" : 1}, parents = [\"Tests\", \"StayHome\"])\n",
    "                 \n",
    "    return Cases, Tests, StayHome"
   ]
  },
  {
   "cell_type": "code",
   "execution_count": 25,
   "metadata": {},
   "outputs": [],
   "source": [
    "def get_mallard_model_states(filename='data/mallardmodeldata.csv'):\n",
    "    mallarddata = pd.read_csv(filename)\n",
    "    Cases = Node(\"Cases\", np.ndarray.flatten(np.array(pd.DataFrame(data={'MarCases':mallarddata['MarCases'], 'AprCases':mallarddata['AprCases'], 'MayCases':mallarddata['MayCases'], 'JunCases':mallarddata['JunCases']}))),\n",
    "                 states = {\"Inc\" : 0, \"Min\" : 1, \"Mod\" : 2, \"Maj\" : 3}, parents = [\"Test\", \"Mask\", \"Work\", \"Rec\"])\n",
    "    Test = Node(\"Test\", np.ndarray.flatten(np.array(pd.DataFrame(data={'MarTest':mallarddata['MarTest'],'AprTest':mallarddata['AprTest'],'MayTest':mallarddata['MayTest'], 'JuneTest':mallarddata['JunTest']}))),\n",
    "                states = {\"GT5\" : 0, \"LE5\" : 1})\n",
    "    Mask = Node(\"Mask\", np.ndarray.flatten(np.array(pd.DataFrame(data={'MarMask':mallarddata['MarMask'],'AprMask':mallarddata['AprMask'],'MayMask':mallarddata['MayMask'],'JunMask':mallarddata['JunMask']}))),\n",
    "                states = {\"No\" : 0, \"Yes\" : 1})\n",
    "    Work = Node(\"Work\", np.ndarray.flatten(np.array(pd.DataFrame(data={'MarWork':mallarddata['MarWork'],'AprWork':mallarddata['AprWork'],'MayWork':mallarddata['MayWork'],'JunWork':mallarddata['JunWork']}))),\n",
    "                states = {\"Inc\" : 0, \"Min\" : 1, \"Mod\" : 2, \"Maj\" : 3})\n",
    "    Rec = Node(\"Rec\", np.ndarray.flatten(np.array(pd.DataFrame(data={'MarRec':mallarddata['MarRec'],'AprRec':mallarddata['AprRec'],'MayRec':mallarddata['MayRec'],'JunRec':mallarddata['JunRec']}))),\n",
    "               states = {\"Inc\" : 0, \"Min\" : 1, \"Mod\" : 2, \"Maj\" : 3})\n",
    "    Death = Node(\"Death\", np.ndarray.flatten(np.array(pd.DataFrame(data={'MarDeath':mallarddata['MarDeath'],'AprDeath':mallarddata['AprDeath'],'MayDeath':mallarddata['MayDeath'],'JunDeath':mallarddata['JunDeath']}))),\n",
    "                 states = {\"Inc\" : 0, \"notInc\" : 1}, parents = [\"Cases\", \"Age\"])\n",
    "    Age = Node(\"Age\", np.ndarray.flatten(np.array(pd.DataFrame(data={'MarAge':mallarddata['MarAge'],'AprAge':mallarddata['AprAge'],'MayAge':mallarddata['MayAge'],'JunAge':mallarddata['JunAge']}))),\n",
    "               states = {\"Old\" : 0, \"Young\" : 1})\n",
    "    return Cases, Test, Mask, Work, Rec, Death, Age"
   ]
  },
  {
   "cell_type": "code",
   "execution_count": 14,
   "metadata": {},
   "outputs": [],
   "source": [
    "#THIS STILL NEEDS TO BE IMPLEMENTED AS MAKING NODE OBJECTS. I STOPPED AFTER UPDATING MALLARD IN THIS WAY\n",
    "\n",
    "def get_alabio_model_states(filename='data/alabiomodeldata.csv'):\n",
    "    alabiodata = pd.read_csv(filename)\n",
    "    Cases = np.ndarray.flatten(np.array(pd.DataFrame(data={'MarCases':alabiodata['MarCases'], 'AprCases':alabiodata['AprCases'], 'MayCases':alabiodata['MayCases'], 'JunCases':alabiodata['JunCases']})))\n",
    "    Test = np.ndarray.flatten(np.array(pd.DataFrame(data={'MarTest':alabiodata['MarTest'],'AprTest':alabiodata['AprTest'],'MayTest':alabiodata['MayTest'], 'JuneTest':alabiodata['JunTest']})))\n",
    "    Mask = np.ndarray.flatten(np.array(pd.DataFrame(data={'MarMask':alabiodata['MarMask'],'AprMask':alabiodata['AprMask'],'MayMask':alabiodata['MayMask'],'JunMask':alabiodata['JunMask']})))\n",
    "    Work = np.ndarray.flatten(np.array(pd.DataFrame(data={'MarWork':alabiodata['MarWork'],'AprWork':alabiodata['AprWork'],'MayWork':alabiodata['MayWork'],'JunWork':alabiodata['JunWork']})))\n",
    "    Rec = np.ndarray.flatten(np.array(pd.DataFrame(data={'MarRec':alabiodata['MarRec'],'AprRec':alabiodata['AprRec'],'MayRec':alabiodata['MayRec'],'JunRec':alabiodata['JunRec']})))\n",
    "    Death = np.ndarray.flatten(np.array(pd.DataFrame(data={'MarDeath':alabiodata['MarDeath'],'AprDeath':alabiodata['AprDeath'],'MayDeath':alabiodata['MayDeath'],'JunDeath':mallarddata['JunDeath']})))\n",
    "    Age = np.ndarray.flatten(np.array(pd.DataFrame(data={'MarAge':alabiodata['MarAge'],'AprAge':alabiodata['AprAge'],'MayAge':alabiodata['MayAge'],'JunAge':alabiodata['JunAge']})))\n",
    "    Race = np.ndarray.flatten(np.array(pd.DataFrame(data={'MarRace':alabiodata['MarRace'],'AprRace':alabiodata['AprRace'],'MayRace':alabiodata['MayRace'],'JunRace':alabiodata['JunRace']})))\n",
    "    Poverty = np.ndarray.flatten(np.array(pd.DataFrame(data={'MarPoverty':alabiodata['MarPoverty'],'AprPoverty':alabiodata['AprPoverty'],'MayPoverty':alabiodata['MayPoverty'],'JunPoverty':alabiodata['JunPoverty']})))\n",
    "    Health = np.ndarray.flatten(np.array(pd.DataFrame(data={'MarHealth':alabiodata['MarHealth'],'AprHealth':alabiodata['AprHealth'],'MayHealth':alabiodata['MayHealth'],'JunHealth':alabiodata['JunHealth']})))\n",
    "    return Cases, Test, Mask, Work, Rec, Death, Age, Race, Poverty, Health\n",
    "    "
   ]
  },
  {
   "cell_type": "code",
   "execution_count": 15,
   "metadata": {},
   "outputs": [
    {
     "data": {
      "text/plain": [
       "'\\n# MAKE YOUR OWN HERE!\\ndef MyDataSetup(*input):\\n\\n##########################\\n# INPUT #\\n# input    type    whatever you need\\n\\n# OUTPUT #\\n# *data     array(s)    1d numpy array(s) of integer entries where the indices match between datasets\\n    return data\\n\\n\\n'"
      ]
     },
     "execution_count": 15,
     "metadata": {},
     "output_type": "execute_result"
    }
   ],
   "source": [
    "#################################################\n",
    "\"\"\"\n",
    "# MAKE YOUR OWN HERE!\n",
    "def MyDataSetup(*input):\n",
    "\n",
    "##########################\n",
    "# INPUT #\n",
    "# input    str    filename with data\n",
    "# **kwargs  whatever else you need\n",
    "\n",
    "# OUTPUT #\n",
    "# *data     tuple of Nodes\n",
    "    return data\n",
    "\n",
    "\n",
    "\"\"\""
   ]
  },
  {
   "cell_type": "code",
   "execution_count": 20,
   "metadata": {},
   "outputs": [
    {
     "data": {
      "text/plain": [
       "(<qbayes_tools.Node at 0x2588e538dc8>,\n",
       " <qbayes_tools.Node at 0x2588e53c5c8>,\n",
       " <qbayes_tools.Node at 0x2588e558d08>)"
      ]
     },
     "execution_count": 20,
     "metadata": {},
     "output_type": "execute_result"
    }
   ],
   "source": [
    "get_lesser_model_nodes()"
   ]
  },
  {
   "cell_type": "code",
   "execution_count": null,
   "metadata": {},
   "outputs": [],
   "source": []
  }
 ],
 "metadata": {
  "kernelspec": {
   "display_name": "Python 3",
   "language": "python",
   "name": "python3"
  },
  "language_info": {
   "codemirror_mode": {
    "name": "ipython",
    "version": 3
   },
   "file_extension": ".py",
   "mimetype": "text/x-python",
   "name": "python",
   "nbconvert_exporter": "python",
   "pygments_lexer": "ipython3",
   "version": "3.7.6"
  }
 },
 "nbformat": 4,
 "nbformat_minor": 4
}
