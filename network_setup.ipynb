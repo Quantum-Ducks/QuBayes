{
 "cells": [
  {
   "cell_type": "code",
   "execution_count": null,
   "metadata": {},
   "outputs": [],
   "source": [
    "# DATA SETUP"
   ]
  },
  {
   "cell_type": "code",
   "execution_count": null,
   "metadata": {},
   "outputs": [],
   "source": [
    "import numpy as np\n",
    "import pandas as pd\n",
    "\n",
    "from qbayes_tools import *\n",
    "from probabilities_temp import *"
   ]
  },
  {
   "cell_type": "code",
   "execution_count": 2,
   "metadata": {},
   "outputs": [],
   "source": [
    "#################################################\n",
    "# COVID-19 EXAMPLES:"
   ]
  },
  {
   "cell_type": "code",
   "execution_count": 157,
   "metadata": {},
   "outputs": [],
   "source": [
    "def build_graph(ntwk_func, filename = None, **kwargs):\n",
    "    if filename == None:\n",
    "        nodes = ntwk_func(**kwargs)\n",
    "    else:\n",
    "        nodes = ntwk_func(filename = filename, **kwargs)\n",
    "\n",
    "    graph = {}\n",
    "    for node in nodes:\n",
    "        if node.parents == []:\n",
    "            #this is a root node, we just need to calculate probabilities\n",
    "            ct = 0\n",
    "            probs = []\n",
    "            got_probs = get_probabilities(node)\n",
    "            newkey = \"\"\n",
    "            for state_i in node.states.keys():\n",
    "                state_key = node.name + \"_\" + state_i\n",
    "                if ct == 0:\n",
    "                    newkey += state_key + \",\"\n",
    "                else:\n",
    "                    newkey += state_key\n",
    "                probs.append(got_probs[state_key])\n",
    "                ct += 1\n",
    "            graph.update({newkey : ([], probs)})\n",
    "\n",
    "        else:\n",
    "            #this is a child node, we need conditional probabilities!\n",
    "            cond_probs = []\n",
    "            \n",
    "            p_nodes = []   #initialize a list in which to place parent nodes\n",
    "            p_names = []   #get names in same order!\n",
    "            for anode in nodes: #loop thru all nodes in network\n",
    "                if anode.name in node.parents:\n",
    "                    p_nodes.append(anode)\n",
    "                    p_names.append(anode.name)\n",
    "\n",
    "            cond_prob_dict = get_conditional_probability(node, p_nodes)\n",
    "            # i need to write func(node, p_node[0], p_node[1], ... p_node[n])\n",
    "            p_ct = 0\n",
    "            newkey = \"\"\n",
    "            for p_str in generate_parent_str(p_nodes[:]):\n",
    "                s_ct = 0\n",
    "                for state_i in node.states.keys():\n",
    "                    cond_str = node.name + \"_\" + state_i + \"|\" + p_str\n",
    "                    cond_probs.append(cond_prob_dict[cond_str])\n",
    "                    \n",
    "                    if p_ct == 0:\n",
    "                        if s_ct == 0:\n",
    "                            newkey += node.name + \"_\" + state_i\n",
    "                        else:\n",
    "                            newkey += \",\" + node.name + \"_\" + state_i\n",
    "                    s_ct += 1\n",
    "                p_ct += 1\n",
    "                \n",
    "            graph.update({newkey : (p_names, cond_probs)})\n",
    "    return graph"
   ]
  },
  {
   "cell_type": "code",
   "execution_count": 164,
   "metadata": {},
   "outputs": [],
   "source": [
    "def get_lesser_model_nodes(filename='data/lesser_model_data.csv'):\n",
    "    lesserdata = pd.read_csv(filename)\n",
    "    \n",
    "    statedataStayHome = {'MarHome' : lesserdata['MarHome'], 'AprHome' : lesserdata['AprHome'], 'MayHome' : lesserdata['MayHome'], 'JunHome' : lesserdata['JunHome']}\n",
    "    StayHome = Node(\"StayHome\", np.ndarray.flatten(np.array(pd.DataFrame(data=statedataStayHome))), states = {\"No\" : 0, \"Yes\" : 1})\n",
    "\n",
    "    statedataTests = {'MarTest' : lesserdata['MarTest'], 'AprTest' : lesserdata['AprTest'], 'MayTest' : lesserdata['MayTest'], 'JunTest' : lesserdata['JunTest']}\n",
    "    Tests = Node(\"Tests\", np.ndarray.flatten(np.array(pd.DataFrame(data=statedataTests))), states = {\"GT5\" : 0, \"LE5\" : 1})\n",
    "\n",
    "    statedataCases = {'MarCases' : lesserdata['MarCases'], 'AprCases' : lesserdata['AprCases'], 'MayCases' : lesserdata['MayCases'], 'JunCases' : lesserdata['JunCases']}\n",
    "    Cases = Node(\"Cases\", np.ndarray.flatten(np.array(pd.DataFrame(data=statedataCases))), states = {\"Inc\" : 0, \"noInc\" : 1}, parents = [\"Tests\", \"StayHome\"])\n",
    "                 \n",
    "    return Cases, Tests, StayHome"
   ]
  },
  {
   "cell_type": "code",
   "execution_count": 165,
   "metadata": {},
   "outputs": [],
   "source": [
    "def get_mallard_model_nodes(filename='data/mallardmodeldata.csv'):\n",
    "    mallarddata = pd.read_csv(filename)\n",
    "    Cases = Node(\"Cases\", np.ndarray.flatten(np.array(pd.DataFrame(data={'MarCases':mallarddata['MarCases'], 'AprCases':mallarddata['AprCases'], 'MayCases':mallarddata['MayCases'], 'JunCases':mallarddata['JunCases']}))),\n",
    "                 states = {\"Inc\" : 0, \"Min\" : 1, \"Mod\" : 2, \"Maj\" : 3}, parents = [\"Test\", \"Mask\", \"Work\", \"Rec\",\"Race\",\"Poverty\"])\n",
    "    Test = Node(\"Test\", np.ndarray.flatten(np.array(pd.DataFrame(data={'MarTest':mallarddata['MarTest'],'AprTest':mallarddata['AprTest'],'MayTest':mallarddata['MayTest'], 'JuneTest':mallarddata['JunTest']}))),\n",
    "                states = {\"GT5\" : 0, \"LE5\" : 1})\n",
    "    Mask = Node(\"Mask\", np.ndarray.flatten(np.array(pd.DataFrame(data={'MarMask':mallarddata['MarMask'],'AprMask':mallarddata['AprMask'],'MayMask':mallarddata['MayMask'],'JunMask':mallarddata['JunMask']}))),\n",
    "                states = {\"No\" : 0, \"Yes\" : 1})\n",
    "    Work = Node(\"Work\", np.ndarray.flatten(np.array(pd.DataFrame(data={'MarWork':mallarddata['MarWork'],'AprWork':mallarddata['AprWork'],'MayWork':mallarddata['MayWork'],'JunWork':mallarddata['JunWork']}))),\n",
    "                states = {\"Inc\" : 0, \"Min\" : 1, \"Mod\" : 2, \"Maj\" : 3})\n",
    "    Rec = Node(\"Rec\", np.ndarray.flatten(np.array(pd.DataFrame(data={'MarRec':mallarddata['MarRec'],'AprRec':mallarddata['AprRec'],'MayRec':mallarddata['MayRec'],'JunRec':mallarddata['JunRec']}))),\n",
    "               states = {\"Inc\" : 0, \"Min\" : 1, \"Mod\" : 2, \"Maj\" : 3})\n",
    "    Death = Node(\"Death\", np.ndarray.flatten(np.array(pd.DataFrame(data={'MarDeath':mallarddata['MarDeath'],'AprDeath':mallarddata['AprDeath'],'MayDeath':mallarddata['MayDeath'],'JunDeath':mallarddata['JunDeath']}))),\n",
    "                 states = {\"Inc\" : 0, \"notInc\" : 1}, parents = [\"Cases\", \"Age\"])\n",
    "    Age = Node(\"Age\", np.ndarray.flatten(np.array(pd.DataFrame(data={'MarAge':mallarddata['MarAge'],'AprAge':mallarddata['AprAge'],'MayAge':mallarddata['MayAge'],'JunAge':mallarddata['JunAge']}))),\n",
    "               states = {\"Old\" : 0, \"Young\" : 1})\n",
    "    return Cases, Test, Mask, Work, Rec, Death, Age"
   ]
  },
  {
   "cell_type": "code",
   "execution_count": 166,
   "metadata": {},
   "outputs": [],
   "source": [
    "def get_alabio_model_nodes(filename='data/alabiomodeldata.csv'):\n",
    "    alabiodata = pd.read_csv(filename)\n",
    "    Cases = Node(\"Cases\", np.ndarray.flatten(np.array(pd.DataFrame(data={'MarCases':alabiodata['MarCases'], 'AprCases':alabiodata['AprCases'], 'MayCases':alabiodata['MayCases'], 'JunCases':alabiodata['JunCases']}))),\n",
    "                states={\"Inc\":0,\"Min\":1,\"Mod\":2,\"Maj\":3}, parents=[\"Test\", \"Mask\", \"Work\", \"Rec\", \"Race\", \"Poverty\"])\n",
    "    Test = Node(\"Test\", np.ndarray.flatten(np.array(pd.DataFrame(data={'MarTest':alabiodata['MarTest'],'AprTest':alabiodata['AprTest'],'MayTest':alabiodata['MayTest'], 'JuneTest':alabiodata['JunTest']}))),\n",
    "                states={\"GT5\" : 0, \"LE5\" : 1})\n",
    "    Mask = Node(\"Mask\", np.ndarray.flatten(np.array(pd.DataFrame(data={'MarMask':alabiodata['MarMask'],'AprMask':alabiodata['AprMask'],'MayMask':alabiodata['MayMask'],'JunMask':alabiodata['JunMask']}))),\n",
    "                states = {\"No\" : 0, \"Yes\" : 1})\n",
    "    Work = Node(\"Work\", np.ndarray.flatten(np.array(pd.DataFrame(data={'MarWork':alabiodata['MarWork'],'AprWork':alabiodata['AprWork'],'MayWork':alabiodata['MayWork'],'JunWork':alabiodata['JunWork']}))),\n",
    "                states = {\"Inc\" : 0, \"Min\" : 1, \"Mod\" : 2, \"Maj\" : 3})\n",
    "    Rec = Node(\"Rec\", np.ndarray.flatten(np.array(pd.DataFrame(data={'MarRec':alabiodata['MarRec'],'AprRec':alabiodata['AprRec'],'MayRec':alabiodata['MayRec'],'JunRec':alabiodata['JunRec']}))),\n",
    "               states = {\"Inc\" : 0, \"Min\" : 1, \"Mod\" : 2, \"Maj\" : 3})\n",
    "    Death = Node(\"Death\", np.ndarray.flatten(np.array(pd.DataFrame(data={'MarDeath':alabiodata['MarDeath'],'AprDeath':alabiodata['AprDeath'],'MayDeath':alabiodata['MayDeath'],'JunDeath':mallarddata['JunDeath']}))),\n",
    "                 states = {\"Inc\" : 0, \"notInc\" : 1}, parents = [\"Cases\", \"Age\", \"Race\", \"Poverty\", \"Health\"])\n",
    "    Age = Node(\"Age\", np.ndarray.flatten(np.array(pd.DataFrame(data={'MarAge':alabiodata['MarAge'],'AprAge':alabiodata['AprAge'],'MayAge':alabiodata['MayAge'],'JunAge':alabiodata['JunAge']}))),\n",
    "               states = {\"Old\" : 0, \"Young\" : 1})\n",
    "    Race = Node(\"Race\", np.ndarray.flatten(np.array(pd.DataFrame(data={'MarRace':alabiodata['MarRace'],'AprRace':alabiodata['AprRace'],'MayRace':alabiodata['MayRace'],'JunRace':alabiodata['JunRace']}))),\n",
    "                states = {\"LE15\":0, \"15to30\":1, \"30to45\":2, \"GT45\":3})\n",
    "    Poverty = Node(\"Poverty\", np.ndarray.flatten(np.array(pd.DataFrame(data={'MarPoverty':alabiodata['MarPoverty'],'AprPoverty':alabiodata['AprPoverty'],'MayPoverty':alabiodata['MayPoverty'],'JunPoverty':alabiodata['JunPoverty']}))),\n",
    "                   states={\"LE11\":0, \"11to13\":1, \"13to15\":2, \"GT15\":3})\n",
    "    Health = Node(\"Health\", np.ndarray.flatten(np.array(pd.DataFrame(data={'MarHealth':alabiodata['MarHealth'],'AprHealth':alabiodata['AprHealth'],'MayHealth':alabiodata['MayHealth'],'JunHealth':alabiodata['JunHealth']}))),\n",
    "                  states={\"Rare\":0, \"SomewhatCom\":1, \"Common\":2, \"VeryCom\":3})\n",
    "    return Cases, Test, Mask, Work, Rec, Death, Age, Race, Poverty, Health\n",
    "    "
   ]
  },
  {
   "cell_type": "code",
   "execution_count": 167,
   "metadata": {},
   "outputs": [
    {
     "data": {
      "text/plain": [
       "'\\n# MAKE YOUR OWN HERE!\\ndef MyDataSetup(*input, **kwargs):\\n\\n##########################\\n# INPUT #\\n# input    str    filename with data\\n# **kwargs  whatever else you need\\n\\n# OUTPUT #\\n# *data     tuple of Nodes\\n    return data\\n\\n\\n'"
      ]
     },
     "execution_count": 167,
     "metadata": {},
     "output_type": "execute_result"
    }
   ],
   "source": [
    "#################################################\n",
    "\"\"\"\n",
    "# MAKE YOUR OWN HERE!\n",
    "def MyDataSetup(*input, **kwargs):\n",
    "\n",
    "##########################\n",
    "# INPUT #\n",
    "# input    str    filename with data\n",
    "# **kwargs  whatever else you need\n",
    "\n",
    "# OUTPUT #\n",
    "# *data     tuple of Nodes\n",
    "    return data\n",
    "\n",
    "\n",
    "\"\"\""
   ]
  },
  {
   "cell_type": "code",
   "execution_count": 168,
   "metadata": {},
   "outputs": [
    {
     "name": "stdout",
     "output_type": "stream",
     "text": [
      "{'Cases_Inc,Cases_noInc': (['Tests', 'StayHome'], [0.8181818181818182, 0.18181818181818182, 0.7068965517241379, 0.29310344827586204, 0.8412698412698413, 0.15873015873015872, 0.23076923076923078, 0.7692307692307693]), 'Tests_GT5,Tests_LE5': ([], [0.62, 0.38]), 'StayHome_No,StayHome_Yes': ([], [0.645, 0.355])}\n"
     ]
    }
   ],
   "source": [
    "print(build_graph(get_lesser_model_nodes))"
   ]
  },
  {
   "cell_type": "code",
   "execution_count": 163,
   "metadata": {},
   "outputs": [
    {
     "name": "stdout",
     "output_type": "stream",
     "text": [
      "{'Cases_Inc,Cases_noInc': (['StayHome', 'Tests'], [0.8181818181818182, 0.18181818181818182, 0.8412698412698413, 0.15873015873015872, 0.7068965517241379, 0.29310344827586204, 0.23076923076923078, 0.7692307692307693]), 'StayHome_No,StayHome_Yes': ([], [0.645, 0.355]), 'Tests_GT5,Tests_LE5': ([], [0.62, 0.38])}\n"
     ]
    }
   ],
   "source": [
    "print(build_graph(get_lesser_model_nodes))"
   ]
  },
  {
   "cell_type": "code",
   "execution_count": null,
   "metadata": {},
   "outputs": [],
   "source": []
  }
 ],
 "metadata": {
  "kernelspec": {
   "display_name": "Python 3",
   "language": "python",
   "name": "python3"
  },
  "language_info": {
   "codemirror_mode": {
    "name": "ipython",
    "version": 3
   },
   "file_extension": ".py",
   "mimetype": "text/x-python",
   "name": "python",
   "nbconvert_exporter": "python",
   "pygments_lexer": "ipython3",
   "version": "3.7.6"
  }
 },
 "nbformat": 4,
 "nbformat_minor": 4
}
