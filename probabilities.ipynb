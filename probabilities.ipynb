{
 "cells": [
  {
   "cell_type": "code",
   "execution_count": 1,
   "metadata": {},
   "outputs": [],
   "source": [
    "import numpy as np\n",
    "import pandas as pd\n",
    "import matplotlib.pyplot as plt\n",
    "\n",
    "from qbayes_tools import *\n",
    "from network_setup_temp import *\n"
   ]
  },
  {
   "cell_type": "code",
   "execution_count": 2,
   "metadata": {},
   "outputs": [],
   "source": [
    "def get_probabilities(node):\n",
    "    ############################################\n",
    "    # USE THIS FUNCTION TO FIND THE PROBABILITIES FOR AN INDIVIDUAL NODE IN THE NETWORK\n",
    "    \n",
    "    ### INPUT ###\n",
    "    # node:     Node     Node object in network\n",
    "\n",
    "    ### OUTPUT ###\n",
    "    # probs:    dict     probabilities\n",
    "    ############################################\n",
    "\n",
    "    data= node.data\n",
    "    states = node.states\n",
    "    name = node.name\n",
    "    num_total = len(data)  #total number of data points with which to calculate probabilities\n",
    "\n",
    "    probs = {}\n",
    "    prob_sum = 0\n",
    "    for state in states.keys(): #loop through different state strings\n",
    "        prob = np.shape(np.where(data == states[state]))[1]/num_total\n",
    "        prob_sum += prob\n",
    "        probs.update({name + \"_\" + state : prob})\n",
    "    assert round(prob_sum, 3) == 1. \n",
    "    \n",
    "    return probs"
   ]
  },
  {
   "cell_type": "code",
   "execution_count": 3,
   "metadata": {},
   "outputs": [
    {
     "ename": "AttributeError",
     "evalue": "'tuple' object has no attribute 'name'",
     "output_type": "error",
     "traceback": [
      "\u001b[0;31m---------------------------------------------------------------------------\u001b[0m",
      "\u001b[0;31mAttributeError\u001b[0m                            Traceback (most recent call last)",
      "\u001b[0;32m<ipython-input-3-b388901e3efa>\u001b[0m in \u001b[0;36m<module>\u001b[0;34m\u001b[0m\n\u001b[1;32m     36\u001b[0m     \u001b[0;32mreturn\u001b[0m \u001b[0mcond_probs\u001b[0m\u001b[0;34m\u001b[0m\u001b[0;34m\u001b[0m\u001b[0m\n\u001b[1;32m     37\u001b[0m \u001b[0;34m\u001b[0m\u001b[0m\n\u001b[0;32m---> 38\u001b[0;31m \u001b[0mprint\u001b[0m\u001b[0;34m(\u001b[0m\u001b[0mget_conditional_probability\u001b[0m\u001b[0;34m(\u001b[0m\u001b[0mget_mallard_model_states\u001b[0m\u001b[0;34m(\u001b[0m\u001b[0;34m)\u001b[0m\u001b[0;34m)\u001b[0m\u001b[0;34m)\u001b[0m\u001b[0;34m\u001b[0m\u001b[0;34m\u001b[0m\u001b[0m\n\u001b[0m",
      "\u001b[0;32m<ipython-input-3-b388901e3efa>\u001b[0m in \u001b[0;36mget_conditional_probability\u001b[0;34m(child, *ps)\u001b[0m\n\u001b[1;32m     15\u001b[0m     \u001b[0;31m#also use assert to check that for all p in ps, ps.name is in child.parents, and vice versa\u001b[0m\u001b[0;34m\u001b[0m\u001b[0;34m\u001b[0m\u001b[0;34m\u001b[0m\u001b[0m\n\u001b[1;32m     16\u001b[0m \u001b[0;34m\u001b[0m\u001b[0m\n\u001b[0;32m---> 17\u001b[0;31m     \u001b[0mkeys\u001b[0m \u001b[0;34m=\u001b[0m \u001b[0mgenerate_cond_keys\u001b[0m\u001b[0;34m(\u001b[0m\u001b[0mchild\u001b[0m\u001b[0;34m,\u001b[0m \u001b[0mps\u001b[0m\u001b[0;34m)\u001b[0m\u001b[0;34m\u001b[0m\u001b[0;34m\u001b[0m\u001b[0m\n\u001b[0m\u001b[1;32m     18\u001b[0m \u001b[0;34m\u001b[0m\u001b[0m\n\u001b[1;32m     19\u001b[0m     \u001b[0mcond_probs\u001b[0m \u001b[0;34m=\u001b[0m \u001b[0;34m{\u001b[0m\u001b[0;34m}\u001b[0m \u001b[0;31m#initialize a dictionary for conditional probabilities\u001b[0m\u001b[0;34m\u001b[0m\u001b[0;34m\u001b[0m\u001b[0m\n",
      "\u001b[0;32m~/quantum_hackathon/quantum-ducks/qbayes_tools.py\u001b[0m in \u001b[0;36mgenerate_cond_keys\u001b[0;34m(child, ps)\u001b[0m\n\u001b[1;32m     13\u001b[0m     \u001b[0;31m##############################################\u001b[0m\u001b[0;34m\u001b[0m\u001b[0;34m\u001b[0m\u001b[0;34m\u001b[0m\u001b[0m\n\u001b[1;32m     14\u001b[0m \u001b[0;34m\u001b[0m\u001b[0m\n\u001b[0;32m---> 15\u001b[0;31m     \u001b[0mcname\u001b[0m \u001b[0;34m=\u001b[0m \u001b[0mchild\u001b[0m\u001b[0;34m.\u001b[0m\u001b[0mname\u001b[0m\u001b[0;34m\u001b[0m\u001b[0;34m\u001b[0m\u001b[0m\n\u001b[0m\u001b[1;32m     16\u001b[0m     \u001b[0mcstates\u001b[0m \u001b[0;34m=\u001b[0m \u001b[0mchild\u001b[0m\u001b[0;34m.\u001b[0m\u001b[0mstates\u001b[0m\u001b[0;34m\u001b[0m\u001b[0;34m\u001b[0m\u001b[0m\n\u001b[1;32m     17\u001b[0m \u001b[0;34m\u001b[0m\u001b[0m\n",
      "\u001b[0;31mAttributeError\u001b[0m: 'tuple' object has no attribute 'name'"
     ]
    }
   ],
   "source": [
    "def get_conditional_probability(child, *ps):\n",
    "    ############################################\n",
    "    ### THIS FUNCTION CALCULATES CONDITIONAL PROBABILITIES FOR CHILD NODE\n",
    "    ### THAT HAS s_m STATES AND m PARENT NODES EACH WITH s_i STATES WHERE i = 0, ..., m-1\n",
    "    \n",
    "    ### INPUTS ###\n",
    "    # child    Node\n",
    "    # *ps      Node(s)\n",
    "    \n",
    "    ### OUTPUT ###\n",
    "    # a dictionary of conditional probabilities\n",
    "    ############################################\n",
    "\n",
    "    #we might want to add some assert statements checking that all inputs have the same shape\n",
    "    #also use assert to check that for all p in ps, ps.name is in child.parents, and vice versa\n",
    "\n",
    "    keys = generate_cond_keys(child, ps)\n",
    "\n",
    "    cond_probs = {} #initialize a dictionary for conditional probabilities\n",
    "    for key in keys:\n",
    "        numer, tot = 0, 0\n",
    "        n = len(child.data)\n",
    "        for i in range(n):\n",
    "            all_ps = True\n",
    "            for j in range(len(ps)):\n",
    "                p = ps[j]\n",
    "                if p.data[i] != int(p.states[key.split(\"|\")[1].split(\",\")[j].split(\"_\")[1]]):\n",
    "                    all_ps = False\n",
    "                    break\n",
    "            if all_ps:\n",
    "                tot += 1\n",
    "                if child.data[i] == int(child.states[key.split(\"|\")[0].split(\"_\")[1]]):\n",
    "                    numer += 1\n",
    "        cond_probs.update({key : numer/tot})\n",
    "  \n",
    "    return cond_probs\n",
    "\n",
    "print(get_conditional_probability(get_mallard_model_states()))"
   ]
  },
  {
   "cell_type": "code",
   "execution_count": 77,
   "metadata": {},
   "outputs": [],
   "source": [
    "# example: results from running simple model on simulator: \n",
    "# {'000': 2783, '001': 1240, '100': 603, '111': 815, '110': 294, '010': 1712, '101': 485, '011': 260}\n",
    "\n",
    "def get_marginal_0probabilities(state_counts):\n",
    "    #state_counts: dict, counts for each state from network result (should have 2^n entries)\n",
    "    #marg_probs: array of length n, marginal probabilities that each qubit is 0,\n",
    "        #from most significant to least significant qubit\n",
    "    \n",
    "    n = len(list(state_counts.keys())[0]) #number of qubits\n",
    "    prob = np.zeros(n)\n",
    "    total = sum(state_counts.values())\n",
    "\n",
    "    for i in range(n):\n",
    "        for key in state_counts:\n",
    "            if int(key[i]) == 0:\n",
    "                prob[i] += state_counts[key]\n",
    "        prob[i] = prob[i]/total\n",
    "    \n",
    "    return prob\n",
    "\n"
   ]
  },
  {
   "cell_type": "markdown",
   "metadata": {},
   "source": [
    "\n",
    "These calculations agree with marginal_probabilities function, yay !\n",
    "\n",
    "PC0_calc = (2783+1240+1712+260)/(2783+1240+603+815+294+1712+485+260)\n",
    "\n",
    "print(PC0_calc)\n",
    "\n",
    "PB0_calc = (2783+1240+485+603)/(2783+1240+603+815+294+1712+485+260)\n",
    "\n",
    "print(PB0_calc)\n",
    "\n",
    "PA0_calc = (2783+603+294+1712)/(2783+1240+603+815+294+1712+485+260)\n",
    "\n",
    "print(PA0_calc)\n"
   ]
  },
  {
   "cell_type": "code",
   "execution_count": 78,
   "metadata": {},
   "outputs": [],
   "source": [
    "# get marginal probabilities for simulation results - lesser model\n",
    "\n",
    "results = {'000': 2783, '001': 1240, '100': 603, '111': 815, '110': 294, '010': 1712, '101': 485, '011': 260}\n",
    "#margProb = marginal_probabilities(results)\n",
    "#margCompare = marginal_probabilities_general(results)\n",
    "#print(margProb)\n",
    "#print(margCompare)"
   ]
  },
  {
   "cell_type": "code",
   "execution_count": 79,
   "metadata": {},
   "outputs": [],
   "source": [
    "def func(**counts):\n",
    "    return counts[\"c001\"]"
   ]
  },
  {
   "cell_type": "code",
   "execution_count": 80,
   "metadata": {},
   "outputs": [
    {
     "data": {
      "text/plain": [
       "82743"
      ]
     },
     "execution_count": 80,
     "metadata": {},
     "output_type": "execute_result"
    }
   ],
   "source": [
    "func(c000=4928, c001=82743, c100=48937, c111=9288842)"
   ]
  },
  {
   "cell_type": "code",
   "execution_count": 81,
   "metadata": {},
   "outputs": [],
   "source": [
    "C,B,A = get_lesser_model_nodes()"
   ]
  },
  {
   "cell_type": "code",
   "execution_count": 82,
   "metadata": {},
   "outputs": [
    {
     "name": "stdout",
     "output_type": "stream",
     "text": [
      "Cases\n"
     ]
    }
   ],
   "source": [
    "print(C.name)"
   ]
  },
  {
   "cell_type": "code",
   "execution_count": 83,
   "metadata": {},
   "outputs": [
    {
     "data": {
      "text/plain": [
       "{'Cases_Inc|Tests_GT5,StayHome_No': 0.8181818181818182,\n",
       " 'Cases_Inc|Tests_GT5,StayHome_Yes': 0.7068965517241379,\n",
       " 'Cases_Inc|Tests_LE5,StayHome_No': 0.8412698412698413,\n",
       " 'Cases_Inc|Tests_LE5,StayHome_Yes': 0.23076923076923078,\n",
       " 'Cases_noInc|Tests_GT5,StayHome_No': 0.18181818181818182,\n",
       " 'Cases_noInc|Tests_GT5,StayHome_Yes': 0.29310344827586204,\n",
       " 'Cases_noInc|Tests_LE5,StayHome_No': 0.15873015873015872,\n",
       " 'Cases_noInc|Tests_LE5,StayHome_Yes': 0.7692307692307693}"
      ]
     },
     "execution_count": 83,
     "metadata": {},
     "output_type": "execute_result"
    }
   ],
   "source": [
    "get_conditional_probability(C, B, A)"
   ]
  },
  {
   "cell_type": "code",
   "execution_count": null,
   "metadata": {},
   "outputs": [],
   "source": []
  },
  {
   "cell_type": "code",
   "execution_count": null,
   "metadata": {},
   "outputs": [],
   "source": []
  },
  {
   "cell_type": "code",
   "execution_count": null,
   "metadata": {},
   "outputs": [],
   "source": []
  }
 ],
 "metadata": {
  "kernelspec": {
   "display_name": "Python 3",
   "language": "python",
   "name": "python3"
  },
  "language_info": {
   "codemirror_mode": {
    "name": "ipython",
    "version": 3
   },
   "file_extension": ".py",
   "mimetype": "text/x-python",
   "name": "python",
   "nbconvert_exporter": "python",
   "pygments_lexer": "ipython3",
   "version": "3.8.2"
  }
 },
 "nbformat": 4,
 "nbformat_minor": 4
}
