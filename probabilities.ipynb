{
 "cells": [
  {
   "cell_type": "code",
   "execution_count": 1,
   "metadata": {},
   "outputs": [],
   "source": [
    "import numpy as np\n",
    "import pandas as pd\n",
    "import matplotlib.pyplot as plt\n",
    "\n",
    "from qbayes_tools import generate_cond_keys"
   ]
  },
  {
   "cell_type": "code",
   "execution_count": 9,
   "metadata": {},
   "outputs": [],
   "source": [
    "lesserdata = pd.read_csv('data/lesser_model_data.csv')"
   ]
  },
  {
   "cell_type": "code",
   "execution_count": 10,
   "metadata": {},
   "outputs": [
    {
     "data": {
      "text/plain": [
       "\"\\nIMPORTANT NOTE Y'ALL::maybe once we have all three models we can move the get_lesser_model_states\\nto some sort of get states code and just make this a place to get general probabilities \\n(and call get_states and probabilities functions from a network specific circuit builder directly,\\nOR a general circuit builder would be the dream!!)\\n\""
      ]
     },
     "execution_count": 10,
     "metadata": {},
     "output_type": "execute_result"
    }
   ],
   "source": [
    "\"\"\"\n",
    "IMPORTANT NOTE Y'ALL::maybe once we have all three models we can move the get_lesser_model_states\n",
    "to some sort of get states code and just make this a place to get general probabilities \n",
    "(and call get_states and probabilities functions from a network specific circuit builder directly,\n",
    "OR a general circuit builder would be the dream!!)\n",
    "\"\"\""
   ]
  },
  {
   "cell_type": "code",
   "execution_count": 11,
   "metadata": {},
   "outputs": [],
   "source": [
    "def get_lesser_model_states():\n",
    "    statedataStayHome = {'MarHome' : lesserdata['MarHome'], 'AprHome' : lesserdata['AprHome'], 'MayHome' : lesserdata['MayHome'], 'JunHome' : lesserdata['JunHome']}\n",
    "    statesStayHome = pd.DataFrame(data=statedataStayHome)\n",
    "\n",
    "    statedataTests = {'MarTest' : lesserdata['MarTest'], 'AprTest' : lesserdata['AprTest'], 'MayTest' : lesserdata['MayTest'], 'JunTest' : lesserdata['JunTest']}\n",
    "    statesTests = pd.DataFrame(data=statedataTests)\n",
    "\n",
    "    statedataCases = {'MarCases' : lesserdata['MarCases'], 'AprCases' : lesserdata['AprCases'], 'MayCases' : lesserdata['MayCases'], 'JunCases' : lesserdata['JunCases']}\n",
    "    statesCases = pd.DataFrame(data=statedataCases) # 0 = increasing. 1 = flat or decreasing\n",
    "    \n",
    "    return np.ndarray.flatten(np.array(statesCases)), np.ndarray.flatten(np.array(statesTests)), np.ndarray.flatten(np.array(statesStayHome))"
   ]
  },
  {
   "cell_type": "code",
   "execution_count": 21,
   "metadata": {},
   "outputs": [],
   "source": [
    "mallarddata = pd.read_csv('data/mallardmodeldata.csv')\n",
    "def get_mallard_model_states():\n",
    "    Cases = np.ndarray.flatten(np.array(pd.DataFrame(data={'MarCases':mallarddata['MarCases'], 'AprCases':mallarddata['AprCases'], 'MayCases':mallarddata['MayCases'], 'JunCases':mallarddata['JunCases']})))\n",
    "    Test = np.ndarray.flatten(np.array(pd.DataFrame(data={'MarTest':mallarddata['MarTest'],'AprTest':mallarddata['AprTest'],'MayTest':mallarddata['MayTest'], 'JuneTest':mallarddata['JunTest']})))\n",
    "    Mask = np.ndarray.flatten(np.array(pd.DataFrame(data={'MarMask':mallarddata['MarMask'],'AprMask':mallarddata['AprMask'],'MayMask':mallarddata['MayMask'],'JunMask':mallarddata['JunMask']})))\n",
    "    Work = np.ndarray.flatten(np.array(pd.DataFrame(data={'MarWork':mallarddata['MarWork'],'AprWork':mallarddata['AprWork'],'MayWork':mallarddata['MayWork'],'JunWork':mallarddata['JunWork']})))\n",
    "    Rec = np.ndarray.flatten(np.array(pd.DataFrame(data={'MarRec':mallarddata['MarRec'],'AprRec':mallarddata['AprRec'],'MayRec':mallarddata['MayRec'],'JunRec':mallarddata['JunRec']})))\n",
    "    Death = np.ndarray.flatten(np.array(pd.DataFrame(data={'MarDeath':mallarddata['MarDeath'],'AprDeath':mallarddata['AprDeath'],'MayDeath':mallarddata['MayDeath'],'JunDeath':mallarddata['JunDeath']})))\n",
    "    Age = np.ndarray.flatten(np.array(pd.DataFrame(data={'MarAge':mallarddata['MarAge'],'AprAge':mallarddata['AprAge'],'MayAge':mallarddata['MayAge'],'JunAge':mallarddata['JunAge']})))\n",
    "    return Cases,Test,Mask,Work,Rec,Death,Age\n"
   ]
  },
  {
   "cell_type": "code",
   "execution_count": 23,
   "metadata": {},
   "outputs": [],
   "source": [
    "alabiodata = pd.read_csv('data/alabiomodeldata.csv')\n",
    "def get_alabio_model_states():\n",
    "    Cases = np.ndarray.flatten(np.array(pd.DataFrame(data={'MarCases':alabiodata['MarCases'], 'AprCases':alabiodata['AprCases'], 'MayCases':alabiodata['MayCases'], 'JunCases':alabiodata['JunCases']})))\n",
    "    Test = np.ndarray.flatten(np.array(pd.DataFrame(data={'MarTest':alabiodata['MarTest'],'AprTest':alabiodata['AprTest'],'MayTest':alabiodata['MayTest'], 'JuneTest':alabiodata['JunTest']})))\n",
    "    Mask = np.ndarray.flatten(np.array(pd.DataFrame(data={'MarMask':alabiodata['MarMask'],'AprMask':alabiodata['AprMask'],'MayMask':alabiodata['MayMask'],'JunMask':alabiodata['JunMask']})))\n",
    "    Work = np.ndarray.flatten(np.array(pd.DataFrame(data={'MarWork':alabiodata['MarWork'],'AprWork':alabiodata['AprWork'],'MayWork':alabiodata['MayWork'],'JunWork':alabiodata['JunWork']})))\n",
    "    Rec = np.ndarray.flatten(np.array(pd.DataFrame(data={'MarRec':alabiodata['MarRec'],'AprRec':alabiodata['AprRec'],'MayRec':alabiodata['MayRec'],'JunRec':alabiodata['JunRec']})))\n",
    "    Death = np.ndarray.flatten(np.array(pd.DataFrame(data={'MarDeath':alabiodata['MarDeath'],'AprDeath':alabiodata['AprDeath'],'MayDeath':alabiodata['MayDeath'],'JunDeath':mallarddata['JunDeath']})))\n",
    "    Age = np.ndarray.flatten(np.array(pd.DataFrame(data={'MarAge':alabiodata['MarAge'],'AprAge':alabiodata['AprAge'],'MayAge':alabiodata['MayAge'],'JunAge':alabiodata['JunAge']})))\n",
    "    Race = np.ndarray.flatten(np.array(pd.DataFrame(data={'MarRace':alabiodata['MarRace'],'AprRace':alabiodata['AprRace'],'MayRace':alabiodata['MayRace'],'JunRace':alabiodata['JunRace']})))\n",
    "    Poverty = np.ndarray.flatten(np.array(pd.DataFrame(data={'MarPoverty':alabiodata['MarPoverty'],'AprPoverty':alabiodata['AprPoverty'],'MayPoverty':alabiodata['MayPoverty'],'JunPoverty':alabiodata['JunPoverty']})))\n",
    "    Health = np.ndarray.flatten(np.array(pd.DataFrame(data={'MarHealth':alabiodata['MarHealth'],'AprHealth':alabiodata['AprHealth'],'MayHealth':alabiodata['MayHealth'],'JunHealth':alabiodata['JunHealth']})))\n",
    "    return Cases, Test, Mask, Work, Rec, Death, Age, Race, Poverty, Health\n",
    "    "
   ]
  },
  {
   "cell_type": "code",
   "execution_count": 5,
   "metadata": {},
   "outputs": [],
   "source": [
    "def get_probabilities(state_data):\n",
    "    ############################################\n",
    "    # USE THIS FUNCTION TO FIND THE PROBABILITIES FOR AN INDIVIDUAL NODE IN THE NETWORK\n",
    "    \n",
    "    ### INPUT ###\n",
    "    # state_data: 1d array indicating the state corresponding to individual data points\n",
    "    #             (note: for an n-state system the array can contain the integers \n",
    "    #             0, 1, ..., n-1, but must contain n-1 at least once) [note to contributors: \n",
    "    #             maybe add an optional input \"n\" to specify a maximum state that is never attained?]\n",
    "\n",
    "    ### OUTPUT ###\n",
    "    # probs: array of length n with probabilities for states 0 through n-1 in increasing order\n",
    "    ############################################\n",
    "\n",
    "    num_total = len(state_data)  #total number of data points with which to calculate probabilities\n",
    "    s = max(state_data) + 1  #number of different states will be the maximum integer included in the state data plus one\n",
    "\n",
    "    probs = np.zeros(s)\n",
    "    for i in range(s): #loop through different allowed states\n",
    "        probs[i] = np.shape(np.where(state_data == i))[1]/num_total\n",
    "\n",
    "    assert round(np.sum(probs), 3) == 1. \n",
    "    \n",
    "    return probs"
   ]
  },
  {
   "cell_type": "code",
   "execution_count": 18,
   "metadata": {},
   "outputs": [],
   "source": [
    "def get_conditional_probability(child, *ps):\n",
    "    ############################################\n",
    "    ### THIS FUNCTION CALCULATES CONDITIONAL PROBABILITIES FOR CHILD NODE\n",
    "    ### THAT HAS s_m STATES AND m PARENT NODES EACH WITH s_i STATES WHERE i = 0, ..., m-1\n",
    "    \n",
    "    ### INPUTS ###\n",
    "    # child    array    1d array with n entries specifying the state of the child node at each data point\n",
    "    # *ps      array(s) variable number of 1d arrays with n entries each, specifying the states of parent nodes at each data point\n",
    "    \n",
    "    ### OUTPUT ###\n",
    "    # a dictionary of conditional probabilities\n",
    "    ############################################\n",
    "\n",
    "    #we might want to add some assert statements checking that all inputs have the same shape\n",
    "    \n",
    "    m = len(ps) #number of parent nodes\n",
    "    s_0 = max(child) + 1 #number of child nodes\n",
    "\n",
    "    s_i = np.zeros(m)\n",
    "    for i in range(m):\n",
    "        s_i[i] = max(ps[i]) + 1 #number of states for this node will be the maximum state noted in that data plus one\n",
    "\n",
    "    keys = generate_cond_keys(s_0,s_i.astype(int))\n",
    "\n",
    "    cond_probs = {} #initialize a dictionary for conditional probabilities\n",
    "    for key in keys:\n",
    "        numer, tot = 0, 0\n",
    "        n = len(child)\n",
    "        for i in range(n):\n",
    "            all_ps = True\n",
    "            for j in range(len(ps)):\n",
    "                p = ps[j]\n",
    "                if p[i] != int(key.split(\"|\")[1].split(\",\")[j]):\n",
    "                    all_ps = False\n",
    "                    break\n",
    "            if all_ps:\n",
    "                tot += 1\n",
    "                if child[i] == int(key.split(\"|\")[0]):\n",
    "                    numer += 1\n",
    "        cond_probs.update({key : numer/tot})\n",
    "  \n",
    "    return cond_probs"
   ]
  },
  {
   "cell_type": "code",
   "execution_count": 19,
   "metadata": {},
   "outputs": [
    {
     "name": "stdout",
     "output_type": "stream",
     "text": [
      "[0.755 0.245]\n",
      "{'0|0,0': 0.8181818181818182, '0|0,1': 0.7068965517241379, '0|1,0': 0.8412698412698413, '0|1,1': 0.23076923076923078, '1|0,0': 0.18181818181818182, '1|0,1': 0.29310344827586204, '1|1,0': 0.15873015873015872, '1|1,1': 0.7692307692307693}\n"
     ]
    }
   ],
   "source": [
    "C,B,A = get_lesser_model_states()\n",
    "\n",
    "print(get_probabilities(C))\n",
    "print(get_conditional_probability(C, B, A))"
   ]
  },
  {
   "cell_type": "code",
   "execution_count": null,
   "metadata": {},
   "outputs": [],
   "source": [
    "# I HAVENT UPDATED MAKING GRAPH FOR CIRCUIT INPUT TO BE GENERAL BUT ALSO IDK IF THIS IS STILL THE WAY WE WANT TO DO THIS...??    \n",
    "\"\"\"\n",
    "    # Make graph for circuit input\n",
    "    ProbA1, ProbA0 = get_probabilities(Astates)\n",
    "    ProbB1, ProbB0 = get_probabilities(Bstates)\n",
    "    \n",
    "    graph = { 'StayAtHome': ([], [ProbA0, ProbA1]), # P(A = 0), P(A = 1)\n",
    "                'Testing': ([], [ProbB0, ProbB1]),  #P(B = 0), P(B = 1)\n",
    "                #P(C=0|A=0,B=0), P(C=1|A=0,B=0), P(C=0|A=0,B=1), P(C=1|A=0,B=1), P(C=0|A=1,B=0), P(C=1|A=1,B=0), P(C=0|A=1,B=1), P(C=1|A=1,B=1)\n",
    "                'Cases': (['StayAtHome','Testing'], [P000, P100, P010, P110, P001, P101, P011, P111])\n",
    "              }\n",
    "    \n",
    "    return states, conditional_probabilities, graph\n",
    "    \"\"\""
   ]
  },
  {
   "cell_type": "code",
   "execution_count": 6,
   "metadata": {},
   "outputs": [],
   "source": [
    "# example: results from running simple model on simulator: \n",
    "# {'000': 2783, '001': 1240, '100': 603, '111': 815, '110': 294, '010': 1712, '101': 485, '011': 260}\n",
    "\n",
    "def get_marginal_0probabilities(state_counts):\n",
    "    #state_counts: dict, counts for each state from network result (should have 2^n entries)\n",
    "    #marg_probs: array of length n, marginal probabilities that each qubit is 0,\n",
    "        #from most significant to least significant qubit\n",
    "    \n",
    "    n = len(list(state_counts.keys())[0]) #number of qubits\n",
    "    prob = np.zeros(n)\n",
    "    total = sum(state_counts.values())\n",
    "\n",
    "    for i in range(n):\n",
    "        for key in state_counts:\n",
    "            if int(key[i]) == 0:\n",
    "                prob[i] += state_counts[key]\n",
    "        prob[i] = prob[i]/total\n",
    "    \n",
    "    return prob\n",
    "\n"
   ]
  },
  {
   "cell_type": "markdown",
   "metadata": {},
   "source": [
    "\n",
    "These calculations agree with marginal_probabilities function, yay !\n",
    "\n",
    "PC0_calc = (2783+1240+1712+260)/(2783+1240+603+815+294+1712+485+260)\n",
    "\n",
    "print(PC0_calc)\n",
    "\n",
    "PB0_calc = (2783+1240+485+603)/(2783+1240+603+815+294+1712+485+260)\n",
    "\n",
    "print(PB0_calc)\n",
    "\n",
    "PA0_calc = (2783+603+294+1712)/(2783+1240+603+815+294+1712+485+260)\n",
    "\n",
    "print(PA0_calc)\n"
   ]
  },
  {
   "cell_type": "code",
   "execution_count": 1,
   "metadata": {},
   "outputs": [],
   "source": [
    "# get marginal probabilities for simulation results - lesser model\n",
    "\n",
    "results = {'000': 2783, '001': 1240, '100': 603, '111': 815, '110': 294, '010': 1712, '101': 485, '011': 260}\n",
    "#margProb = marginal_probabilities(results)\n",
    "#margCompare = marginal_probabilities_general(results)\n",
    "#print(margProb)\n",
    "#print(margCompare)"
   ]
  },
  {
   "cell_type": "code",
   "execution_count": 6,
   "metadata": {},
   "outputs": [],
   "source": [
    "def func(**counts):\n",
    "    return counts[\"c001\"]"
   ]
  },
  {
   "cell_type": "code",
   "execution_count": 7,
   "metadata": {},
   "outputs": [
    {
     "data": {
      "text/plain": [
       "82743"
      ]
     },
     "execution_count": 7,
     "metadata": {},
     "output_type": "execute_result"
    }
   ],
   "source": [
    "func(c000=4928, c001=82743, c100=48937, c111=9288842)"
   ]
  },
  {
   "cell_type": "code",
   "execution_count": null,
   "metadata": {},
   "outputs": [],
   "source": []
  }
 ],
 "metadata": {
  "kernelspec": {
   "display_name": "Python 3",
   "language": "python",
   "name": "python3"
  },
  "language_info": {
   "codemirror_mode": {
    "name": "ipython",
    "version": 3
   },
   "file_extension": ".py",
   "mimetype": "text/x-python",
   "name": "python",
   "nbconvert_exporter": "python",
   "pygments_lexer": "ipython3",
   "version": "3.8.2"
  }
 },
 "nbformat": 4,
 "nbformat_minor": 4
}
