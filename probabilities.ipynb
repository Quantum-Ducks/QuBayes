{
 "cells": [
  {
   "cell_type": "code",
   "execution_count": 8,
   "metadata": {},
   "outputs": [],
   "source": [
    "import numpy as np\n",
    "import pandas as pd\n",
    "import matplotlib.pyplot as plt"
   ]
  },
  {
   "cell_type": "code",
   "execution_count": 9,
   "metadata": {},
   "outputs": [],
   "source": [
    "data = pd.read_csv('data/lesser_model_data.csv')"
   ]
  },
  {
   "cell_type": "code",
   "execution_count": 10,
   "metadata": {},
   "outputs": [
    {
     "data": {
      "text/plain": [
       "\"\\nIMPORTANT NOTE Y'ALL::maybe once we have all three model we can move the get_lesser_model_states\\nto some sort of get states code and just make this a place to get general probabilities \\n(and call get_states and probabilities functions from a network specific circuit builder directly,\\nOR a general circuit builder would be the dream!!)\\n\""
      ]
     },
     "execution_count": 10,
     "metadata": {},
     "output_type": "execute_result"
    }
   ],
   "source": [
    "\"\"\"\n",
    "IMPORTANT NOTE Y'ALL::maybe once we have all three models we can move the get_lesser_model_states\n",
    "to some sort of get states code and just make this a place to get general probabilities \n",
    "(and call get_states and probabilities functions from a network specific circuit builder directly,\n",
    "OR a general circuit builder would be the dream!!)\n",
    "\"\"\""
   ]
  },
  {
   "cell_type": "code",
   "execution_count": 11,
   "metadata": {},
   "outputs": [],
   "source": [
    "def get_lesser_model_states():\n",
    "    statedataStayHome = {'MarHome' : data['MarHome'], 'AprHome' : data['AprHome'], 'MayHome' : data['MayHome'], 'JunHome' : data['JunHome']}\n",
    "    statesStayHome = pd.DataFrame(data=statedataStayHome)\n",
    "\n",
    "    statedataTests = {'MarTest' : data['MarTest'], 'AprTest' : data['AprTest'], 'MayTest' : data['MayTest'], 'JunTest' : data['JunTest']}\n",
    "    statesTests = pd.DataFrame(data=statedataTests)\n",
    "\n",
    "    statedataCases = {'MarCases' : data['MarCases'], 'AprCases' : data['AprCases'], 'MayCases' : data['MayCases'], 'JunCases' : data['JunCases']}\n",
    "    statesCases = pd.DataFrame(data=statedataCases) # 0 = increasing. 1 = flat or decreasing\n",
    "    \n",
    "    return statesStayHome, statesTests, statesCases"
   ]
  },
  {
   "cell_type": "code",
   "execution_count": 62,
   "metadata": {},
   "outputs": [],
   "source": [
    "def get_probabilities(state_data):\n",
    "    ############################################\n",
    "    # USE THIS FUNCTION TO FIND THE PROBABILITIES FOR AN INDIVIDUAL NODE IN THE NETWORK\n",
    "    \n",
    "    ### INPUT ###\n",
    "    # state_data: array or pandas dataframe of any dimension and shape containing integers\n",
    "    #         indicating the state corresponding to individual data points (note: for an\n",
    "    #         n-state system the array can contain the integers 0, 1, ..., n-1, but must\n",
    "    #         contain n-1 at least once)\n",
    "\n",
    "    ### OUTPUT ###\n",
    "    # probs: array of length n with probabilities for states 0 through n-1 in increasing order\n",
    "    ############################################\n",
    "    state_data = np.ndarray.flatten(np.array(state_data)) #now the input can be an array or pandas dataframe of any dimension\n",
    "    num_total = len(state_data)  #total number of data points with which to calculate probabilities\n",
    "    s = max(state_data) + 1  #number of different states will be the maximum integer included in the state data plus one\n",
    "\n",
    "    probs = np.zeros(s)\n",
    "    for i in range(s): #loop through different allowed states\n",
    "        probs[i] = np.shape(np.where(state_data == i))[1]/num_total\n",
    "\n",
    "    assert round(np.sum(probs), 3) == 1. \n",
    "    \n",
    "    return probs"
   ]
  },
  {
   "cell_type": "code",
   "execution_count": 5,
   "metadata": {},
   "outputs": [],
   "source": [
    "### IN PROGRESS OF GENERALIZING THIS TO m PARENT nodes with s_i states (parent 0 has s_0 states, parent 1 has s_1 states, etc.)\n",
    "### THE OLD VERSION IS IN ARCHIVED FUNCTIONS NOTEBOOK!\n",
    "\n",
    "def get_conditional_probability(*state_datas):\n",
    "    ############################################\n",
    "    ### THIS FUNCTION CALCULATES CONDITIONAL PROBABILITIES FOR CHILD NODE\n",
    "    ### THAT HAS s_m STATES AND m PARENT NODES EACH WITH s_i STATES WHERE i = 0, ..., m-1\n",
    "    \n",
    "    ### INPUT ###\n",
    "    # this function takes m+1 inputs\n",
    "    # each input should be an array or pandas dataframe of the same dimension and shape containing integers\n",
    "    #         indicating the state corresponding to individual data points for a node\n",
    "    # the first m inputs should be the state data of the parent nodes of one particular child node\n",
    "    # the last input should be the state data for that child node\n",
    "    \n",
    "    ### OUTPUT ###\n",
    "    # a dictionary of conditional probabilities...hmmm need to think this through???\n",
    "    \n",
    "    m = len(state_datas) - 1\n",
    "    \n",
    "    s = np.zeros(m+1)\n",
    "    for i in range(m+1)\n",
    "        state_datas[i] = np.ndarray.flatten(np.array(state_datas[i]))\n",
    "        s[i] = max(state_datas[i]) + 1\n",
    "    \n",
    "    #figure out how to generate a list of strings: [\"0|00...00\", 0|00...01, ... \"s_m|s_(m-1)s_(m-2)...s1s0\"]\n",
    "    \n",
    "    \"\"\"\n",
    "    for s in s_m:\n",
    "        #Add up cases where child = s\n",
    "        ind = np.where(Cstates == 1)[0] #index flattened array with child in state s\n",
    "\n",
    "        #gonna need to figure this out...how to have m-1 nested ifs, change notation, store in an array of nums\n",
    "        for i in range(len(indC_one_col)): # loop through all times C=1\n",
    "            A = Astates.iloc[indC_one_row[i], indC_one_col[i]]\n",
    "            B = Bstates.iloc[indC_one_row[i], indC_one_col[i]]\n",
    "            if A == 1:\n",
    "                if B == 1:\n",
    "                    num111 += 1  #C=1, B=1, A=1\n",
    "                    num11 += 1  #B=1, A=1\n",
    "                elif B == 0:\n",
    "                    num101 += 1  #C=1, B=0, A=1\n",
    "                    num01 += 1  #B=0, A=1\n",
    "            elif A == 0:\n",
    "                if B == 1:\n",
    "                    num110 += 1  #C=1, B=1, A=0\n",
    "                    num10 += 1  #B=1, A=0\n",
    "                elif B == 0:\n",
    "                    num100 += 1  #C=1, B=0, A=0\n",
    "                    num00 += 1  #B=0, A=0\n",
    "        \n",
    "   \n",
    "    # Calculate conditional probabilities\n",
    "    num_total = np.shape(Astates)[0] * np.shape(Astates)[1]\n",
    "    \n",
    "    # the variable names are in the order CBA (cases, testing, stay at home)\n",
    "    P111 = num111/num11\n",
    "    P101 = num101/num01\n",
    "    P110 = num110/num10\n",
    "    P100 = num100/num00\n",
    "    P011 = num011/num11\n",
    "    P001 = num001/num01\n",
    "    P010 = num010/num10\n",
    "    P000 = num000/num00\n",
    "    \n",
    "    states = np.array(['0|00','1|00','0|01','1|01','0|10','1|10','0|11','1|11']) #I believe this is the order Matt was talking about with top to bottom, left to right in the table from the paper\n",
    "    conditional_probabilities = np.array([P000,P100,P001,P101,P010,P110,P011,P111]) #in this order, the first two, second two, etc. should each add to 1 as pairs (columns in the paper's table)\n",
    "    \n",
    "    # Make graph for circuit input\n",
    "    ProbA1, ProbA0 = get_probabilities(Astates)\n",
    "    ProbB1, ProbB0 = get_probabilities(Bstates)\n",
    "    \n",
    "    graph = { 'StayAtHome': ([], [ProbA0, ProbA1]), # P(A = 0), P(A = 1)\n",
    "                'Testing': ([], [ProbB0, ProbB1]),  #P(B = 0), P(B = 1)\n",
    "                #P(C=0|A=0,B=0), P(C=1|A=0,B=0), P(C=0|A=0,B=1), P(C=1|A=0,B=1), P(C=0|A=1,B=0), P(C=1|A=1,B=0), P(C=0|A=1,B=1), P(C=1|A=1,B=1)\n",
    "                'Cases': (['StayAtHome','Testing'], [P000, P100, P010, P110, P001, P101, P011, P111])\n",
    "              }\n",
    "    \n",
    "    return states, conditional_probabilities, graph\n",
    "    \"\"\""
   ]
  },
  {
   "cell_type": "code",
   "execution_count": 6,
   "metadata": {},
   "outputs": [],
   "source": [
    "# example: results from running simple model on simulator: \n",
    "# {'000': 2783, '001': 1240, '100': 603, '111': 815, '110': 294, '010': 1712, '101': 485, '011': 260}\n",
    "\n",
    "def get_marginal_0probabilities(state_counts):\n",
    "    #state_counts: dict, counts for each state from network result (should have 2^n entries)\n",
    "    #marg_probs: array of length n, marginal probabilities that each qubit is 0,\n",
    "        #from most significant to least significant qubit\n",
    "    \n",
    "    n = len(list(state_counts.keys())[0]) #number of qubits\n",
    "    prob = np.zeros(n)\n",
    "    total = sum(state_counts.values())\n",
    "\n",
    "    for i in range(n):\n",
    "        for key in state_counts:\n",
    "            if int(key[i]) == 0:\n",
    "                prob[i] += state_counts[key]\n",
    "        prob[i] = prob[i]/total\n",
    "    \n",
    "    return prob\n",
    "\n"
   ]
  },
  {
   "cell_type": "markdown",
   "metadata": {},
   "source": [
    "\n",
    "These calculations agree with marginal_probabilities function, yay !\n",
    "\n",
    "PC0_calc = (2783+1240+1712+260)/(2783+1240+603+815+294+1712+485+260)\n",
    "\n",
    "print(PC0_calc)\n",
    "\n",
    "PB0_calc = (2783+1240+485+603)/(2783+1240+603+815+294+1712+485+260)\n",
    "\n",
    "print(PB0_calc)\n",
    "\n",
    "PA0_calc = (2783+603+294+1712)/(2783+1240+603+815+294+1712+485+260)\n",
    "\n",
    "print(PA0_calc)\n"
   ]
  },
  {
   "cell_type": "code",
   "execution_count": 7,
   "metadata": {},
   "outputs": [
    {
     "name": "stdout",
     "output_type": "stream",
     "text": [
      "(0.7318115234375, 0.6239013671875, 0.658203125)\n",
      "[0.73181152 0.62390137 0.65820312]\n"
     ]
    }
   ],
   "source": [
    "# get marginal probabilities for simulation results - lesser model\n",
    "\n",
    "results = {'000': 2783, '001': 1240, '100': 603, '111': 815, '110': 294, '010': 1712, '101': 485, '011': 260}\n",
    "margProb = marginal_probabilities(results)\n",
    "margCompare = marginal_probabilities_general(results)\n",
    "print(margProb)\n",
    "print(margCompare)"
   ]
  },
  {
   "cell_type": "code",
   "execution_count": 6,
   "metadata": {},
   "outputs": [],
   "source": [
    "def func(**counts):\n",
    "    return counts[\"c001\"]"
   ]
  },
  {
   "cell_type": "code",
   "execution_count": 7,
   "metadata": {},
   "outputs": [
    {
     "data": {
      "text/plain": [
       "82743"
      ]
     },
     "execution_count": 7,
     "metadata": {},
     "output_type": "execute_result"
    }
   ],
   "source": [
    "func(c000=4928, c001=82743, c100=48937, c111=9288842)"
   ]
  },
  {
   "cell_type": "code",
   "execution_count": null,
   "metadata": {},
   "outputs": [],
   "source": []
  }
 ],
 "metadata": {
  "kernelspec": {
   "display_name": "Python 3",
   "language": "python",
   "name": "python3"
  },
  "language_info": {
   "codemirror_mode": {
    "name": "ipython",
    "version": 3
   },
   "file_extension": ".py",
   "mimetype": "text/x-python",
   "name": "python",
   "nbconvert_exporter": "python",
   "pygments_lexer": "ipython3",
   "version": "3.7.6"
  }
 },
 "nbformat": 4,
 "nbformat_minor": 4
}
