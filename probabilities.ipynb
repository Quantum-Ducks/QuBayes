{
 "cells": [
  {
   "cell_type": "code",
   "execution_count": 64,
   "metadata": {},
   "outputs": [
    {
     "ename": "ModuleNotFoundError",
     "evalue": "No module named 'qbayes_tools'",
     "output_type": "error",
     "traceback": [
      "\u001b[1;31m---------------------------------------------------------------------------\u001b[0m",
      "\u001b[1;31mModuleNotFoundError\u001b[0m                       Traceback (most recent call last)",
      "\u001b[1;32m<ipython-input-64-fc9edf268945>\u001b[0m in \u001b[0;36m<module>\u001b[1;34m\u001b[0m\n\u001b[0;32m      3\u001b[0m \u001b[1;32mimport\u001b[0m \u001b[0mmatplotlib\u001b[0m\u001b[1;33m.\u001b[0m\u001b[0mpyplot\u001b[0m \u001b[1;32mas\u001b[0m \u001b[0mplt\u001b[0m\u001b[1;33m\u001b[0m\u001b[1;33m\u001b[0m\u001b[0m\n\u001b[0;32m      4\u001b[0m \u001b[1;33m\u001b[0m\u001b[0m\n\u001b[1;32m----> 5\u001b[1;33m \u001b[1;32mfrom\u001b[0m \u001b[0mqbayes_tools\u001b[0m \u001b[1;32mimport\u001b[0m \u001b[0mgenerate_cond_keys\u001b[0m\u001b[1;33m\u001b[0m\u001b[1;33m\u001b[0m\u001b[0m\n\u001b[0m",
      "\u001b[1;31mModuleNotFoundError\u001b[0m: No module named 'qbayes_tools'"
     ]
    }
   ],
   "source": [
    "import numpy as np\n",
    "import pandas as pd\n",
    "import matplotlib.pyplot as plt\n",
    "\n",
    "from qbayes_tools import generate_cond_keys"
   ]
  },
  {
   "cell_type": "code",
   "execution_count": 37,
   "metadata": {},
   "outputs": [],
   "source": [
    "data = pd.read_csv('data/lesser_model_data.csv')"
   ]
  },
  {
   "cell_type": "code",
   "execution_count": 38,
   "metadata": {},
   "outputs": [
    {
     "data": {
      "text/plain": [
       "\"\\nIMPORTANT NOTE Y'ALL::maybe once we have all three models we can move the get_lesser_model_states\\nto some sort of get states code and just make this a place to get general probabilities \\n(and call get_states and probabilities functions from a network specific circuit builder directly,\\nOR a general circuit builder would be the dream!!)\\n\""
      ]
     },
     "execution_count": 38,
     "metadata": {},
     "output_type": "execute_result"
    }
   ],
   "source": [
    "\"\"\"\n",
    "IMPORTANT NOTE Y'ALL::maybe once we have all three models we can move the get_lesser_model_states\n",
    "to some sort of get states code and just make this a place to get general probabilities \n",
    "(and call get_states and probabilities functions from a network specific circuit builder directly,\n",
    "OR a general circuit builder would be the dream!!)\n",
    "\"\"\""
   ]
  },
  {
   "cell_type": "code",
   "execution_count": 40,
   "metadata": {},
   "outputs": [],
   "source": [
    "def get_lesser_model_states():\n",
    "    statedataStayHome = {'MarHome' : data['MarHome'], 'AprHome' : data['AprHome'], 'MayHome' : data['MayHome'], 'JunHome' : data['JunHome']}\n",
    "    statesStayHome = pd.DataFrame(data=statedataStayHome)\n",
    "\n",
    "    statedataTests = {'MarTest' : data['MarTest'], 'AprTest' : data['AprTest'], 'MayTest' : data['MayTest'], 'JunTest' : data['JunTest']}\n",
    "    statesTests = pd.DataFrame(data=statedataTests)\n",
    "\n",
    "    statedataCases = {'MarCases' : data['MarCases'], 'AprCases' : data['AprCases'], 'MayCases' : data['MayCases'], 'JunCases' : data['JunCases']}\n",
    "    statesCases = pd.DataFrame(data=statedataCases) # 0 = increasing. 1 = flat or decreasing\n",
    "    \n",
    "    return np.ndarray.flatten(np.array(statesCases)), np.ndarray.flatten(np.array(statesTests)), np.ndarray.flatten(np.array(statesStayHome))"
   ]
  },
  {
   "cell_type": "code",
   "execution_count": 41,
   "metadata": {},
   "outputs": [],
   "source": [
    "def get_probabilities(state_data):\n",
    "    ############################################\n",
    "    # USE THIS FUNCTION TO FIND THE PROBABILITIES FOR AN INDIVIDUAL NODE IN THE NETWORK\n",
    "    \n",
    "    ### INPUT ###\n",
    "    # state_data: 1d array indicating the state corresponding to individual data points\n",
    "    #             (note: for an n-state system the array can contain the integers \n",
    "    #             0, 1, ..., n-1, but must contain n-1 at least once) [note to contributors: \n",
    "    #             maybe add an optional input \"n\" to specify a maximum state that is never attained?]\n",
    "\n",
    "    ### OUTPUT ###\n",
    "    # probs: array of length n with probabilities for states 0 through n-1 in increasing order\n",
    "    ############################################\n",
    "\n",
    "    num_total = len(state_data)  #total number of data points with which to calculate probabilities\n",
    "    s = max(state_data) + 1  #number of different states will be the maximum integer included in the state data plus one\n",
    "\n",
    "    probs = np.zeros(s)\n",
    "    for i in range(s): #loop through different allowed states\n",
    "        probs[i] = np.shape(np.where(state_data == i))[1]/num_total\n",
    "\n",
    "    assert round(np.sum(probs), 3) == 1. \n",
    "    \n",
    "    return probs"
   ]
  },
  {
   "cell_type": "code",
   "execution_count": 46,
   "metadata": {},
   "outputs": [],
   "source": [
    "def get_conditional_probability(child, *ps):\n",
    "    ############################################\n",
    "    ### THIS FUNCTION CALCULATES CONDITIONAL PROBABILITIES FOR CHILD NODE\n",
    "    ### THAT HAS s_m STATES AND m PARENT NODES EACH WITH s_i STATES WHERE i = 0, ..., m-1\n",
    "    \n",
    "    ### INPUTS ###\n",
    "    # child    array    1d array with n entries specifying the state of the child node at each data point\n",
    "    # *ps      array(s) variable number of 1d arrays with n entries each, specifying the states of parent nodes at each data point\n",
    "    \n",
    "    ### OUTPUT ###\n",
    "    # a dictionary of conditional probabilities\n",
    "    ############################################\n",
    "\n",
    "    #we might want to add some assert statements checking that all inputs have the same shape\n",
    "    \n",
    "    m = len(ps) #number of parent nodes\n",
    "    s_0 = max(child) + 1 #number of child nodes\n",
    "    \n",
    "    s_i = np.zeros(m)\n",
    "    for i in range(m):\n",
    "        s_i[i] = max(ps[i]) + 1  #number of states for this node will be the maximum state noted in that data plus one\n",
    "    keys = tools.generate_cond_keys(s_0,s_i)\n",
    "    \n",
    "    cond_probs = {} #initialize a dictionary for conditional probabilities\n",
    "    for key in keys:\n",
    "        numer, tot = 0, 0\n",
    "        n = len(c)\n",
    "        for i in range(n):\n",
    "            all_ps = True\n",
    "            for j in range(len(ps)):\n",
    "                p = ps[j]\n",
    "                if p[i] != int(key.split(\"|\")[1].split(\",\")[j]):\n",
    "                    all_ps = False\n",
    "                    break\n",
    "            if all_ps:\n",
    "                tot += 1\n",
    "                if child[i] == int(key.split(\"|\")[0]):\n",
    "                    numer += 1\n",
    "            \n",
    "        cond_probs.update({key : num/tot})\n",
    "\n",
    "    \"\"\"\n",
    "    # Make graph for circuit input\n",
    "    ProbA1, ProbA0 = get_probabilities(Astates)\n",
    "    ProbB1, ProbB0 = get_probabilities(Bstates)\n",
    "    \n",
    "    graph = { 'StayAtHome': ([], [ProbA0, ProbA1]), # P(A = 0), P(A = 1)\n",
    "                'Testing': ([], [ProbB0, ProbB1]),  #P(B = 0), P(B = 1)\n",
    "                #P(C=0|A=0,B=0), P(C=1|A=0,B=0), P(C=0|A=0,B=1), P(C=1|A=0,B=1), P(C=0|A=1,B=0), P(C=1|A=1,B=0), P(C=0|A=1,B=1), P(C=1|A=1,B=1)\n",
    "                'Cases': (['StayAtHome','Testing'], [P000, P100, P010, P110, P001, P101, P011, P111])\n",
    "              }\n",
    "    \n",
    "    return states, conditional_probabilities, graph\n",
    "    \"\"\"\n",
    "    \n",
    "    return cond_probs"
   ]
  },
  {
   "cell_type": "code",
   "execution_count": 47,
   "metadata": {},
   "outputs": [
    {
     "name": "stdout",
     "output_type": "stream",
     "text": [
      "[0.645 0.355]\n"
     ]
    },
    {
     "ename": "NameError",
     "evalue": "name 'tools' is not defined",
     "output_type": "error",
     "traceback": [
      "\u001b[1;31m---------------------------------------------------------------------------\u001b[0m",
      "\u001b[1;31mNameError\u001b[0m                                 Traceback (most recent call last)",
      "\u001b[1;32m<ipython-input-47-acd78f1753b8>\u001b[0m in \u001b[0;36m<module>\u001b[1;34m\u001b[0m\n\u001b[0;32m      2\u001b[0m \u001b[1;33m\u001b[0m\u001b[0m\n\u001b[0;32m      3\u001b[0m \u001b[0mprint\u001b[0m\u001b[1;33m(\u001b[0m\u001b[0mget_probabilities\u001b[0m\u001b[1;33m(\u001b[0m\u001b[0mC\u001b[0m\u001b[1;33m)\u001b[0m\u001b[1;33m)\u001b[0m\u001b[1;33m\u001b[0m\u001b[1;33m\u001b[0m\u001b[0m\n\u001b[1;32m----> 4\u001b[1;33m \u001b[0mprint\u001b[0m\u001b[1;33m(\u001b[0m\u001b[0mget_conditional_probability\u001b[0m\u001b[1;33m(\u001b[0m\u001b[0mC\u001b[0m\u001b[1;33m,\u001b[0m \u001b[0mB\u001b[0m\u001b[1;33m,\u001b[0m \u001b[0mA\u001b[0m\u001b[1;33m)\u001b[0m\u001b[1;33m)\u001b[0m\u001b[1;33m\u001b[0m\u001b[1;33m\u001b[0m\u001b[0m\n\u001b[0m",
      "\u001b[1;32m<ipython-input-46-09fc4d70fafe>\u001b[0m in \u001b[0;36mget_conditional_probability\u001b[1;34m(child, *ps)\u001b[0m\n\u001b[0;32m     20\u001b[0m     \u001b[1;32mfor\u001b[0m \u001b[0mi\u001b[0m \u001b[1;32min\u001b[0m \u001b[0mrange\u001b[0m\u001b[1;33m(\u001b[0m\u001b[0mm\u001b[0m\u001b[1;33m)\u001b[0m\u001b[1;33m:\u001b[0m\u001b[1;33m\u001b[0m\u001b[1;33m\u001b[0m\u001b[0m\n\u001b[0;32m     21\u001b[0m         \u001b[0ms_i\u001b[0m\u001b[1;33m[\u001b[0m\u001b[0mi\u001b[0m\u001b[1;33m]\u001b[0m \u001b[1;33m=\u001b[0m \u001b[0mmax\u001b[0m\u001b[1;33m(\u001b[0m\u001b[0mps\u001b[0m\u001b[1;33m[\u001b[0m\u001b[0mi\u001b[0m\u001b[1;33m]\u001b[0m\u001b[1;33m)\u001b[0m \u001b[1;33m+\u001b[0m \u001b[1;36m1\u001b[0m  \u001b[1;31m#number of states for this node will be the maximum state noted in that data plus one\u001b[0m\u001b[1;33m\u001b[0m\u001b[1;33m\u001b[0m\u001b[0m\n\u001b[1;32m---> 22\u001b[1;33m     \u001b[0mkeys\u001b[0m \u001b[1;33m=\u001b[0m \u001b[0mtools\u001b[0m\u001b[1;33m.\u001b[0m\u001b[0mgenerate_cond_keys\u001b[0m\u001b[1;33m(\u001b[0m\u001b[0ms_0\u001b[0m\u001b[1;33m,\u001b[0m\u001b[0ms_i\u001b[0m\u001b[1;33m)\u001b[0m\u001b[1;33m\u001b[0m\u001b[1;33m\u001b[0m\u001b[0m\n\u001b[0m\u001b[0;32m     23\u001b[0m \u001b[1;33m\u001b[0m\u001b[0m\n\u001b[0;32m     24\u001b[0m     \u001b[0mcond_probs\u001b[0m \u001b[1;33m=\u001b[0m \u001b[1;33m{\u001b[0m\u001b[1;33m}\u001b[0m \u001b[1;31m#initialize a dictionary for conditional probabilities\u001b[0m\u001b[1;33m\u001b[0m\u001b[1;33m\u001b[0m\u001b[0m\n",
      "\u001b[1;31mNameError\u001b[0m: name 'tools' is not defined"
     ]
    }
   ],
   "source": [
    "A,B,C = get_lesser_model_states()\n",
    "\n",
    "print(get_probabilities(C))\n",
    "print(get_conditional_probability(C, B, A))"
   ]
  },
  {
   "cell_type": "code",
   "execution_count": null,
   "metadata": {},
   "outputs": [],
   "source": [
    "\"\"\" # alternate\n",
    "\n",
    "def f(c, *ps):\n",
    "\tfor key in keys:\n",
    "\t\tnum_c, tot_c = 0, 0\n",
    "\t\tn = len(c)\n",
    "\t\tfor i in range(n):\n",
    "\t\t\tall_ps = all([ps[j][i] == key[j] for j in range(len(ps))])\n",
    "\t\t\tif all_ps:\n",
    "\t\t\t\ttot_c += 1\n",
    "\t\t\t\tif c[i] == thing before |:\n",
    "\t\t\t\t\tnum_c += 1\n",
    "\n",
    "\"\"\""
   ]
  },
  {
   "cell_type": "code",
   "execution_count": 6,
   "metadata": {},
   "outputs": [],
   "source": [
    "# example: results from running simple model on simulator: \n",
    "# {'000': 2783, '001': 1240, '100': 603, '111': 815, '110': 294, '010': 1712, '101': 485, '011': 260}\n",
    "\n",
    "def get_marginal_0probabilities(state_counts):\n",
    "    #state_counts: dict, counts for each state from network result (should have 2^n entries)\n",
    "    #marg_probs: array of length n, marginal probabilities that each qubit is 0,\n",
    "        #from most significant to least significant qubit\n",
    "    \n",
    "    n = len(list(state_counts.keys())[0]) #number of qubits\n",
    "    prob = np.zeros(n)\n",
    "    total = sum(state_counts.values())\n",
    "\n",
    "    for i in range(n):\n",
    "        for key in state_counts:\n",
    "            if int(key[i]) == 0:\n",
    "                prob[i] += state_counts[key]\n",
    "        prob[i] = prob[i]/total\n",
    "    \n",
    "    return prob\n",
    "\n"
   ]
  },
  {
   "cell_type": "markdown",
   "metadata": {},
   "source": [
    "\n",
    "These calculations agree with marginal_probabilities function, yay !\n",
    "\n",
    "PC0_calc = (2783+1240+1712+260)/(2783+1240+603+815+294+1712+485+260)\n",
    "\n",
    "print(PC0_calc)\n",
    "\n",
    "PB0_calc = (2783+1240+485+603)/(2783+1240+603+815+294+1712+485+260)\n",
    "\n",
    "print(PB0_calc)\n",
    "\n",
    "PA0_calc = (2783+603+294+1712)/(2783+1240+603+815+294+1712+485+260)\n",
    "\n",
    "print(PA0_calc)\n"
   ]
  },
  {
   "cell_type": "code",
   "execution_count": 1,
   "metadata": {},
   "outputs": [],
   "source": [
    "# get marginal probabilities for simulation results - lesser model\n",
    "\n",
    "results = {'000': 2783, '001': 1240, '100': 603, '111': 815, '110': 294, '010': 1712, '101': 485, '011': 260}\n",
    "#margProb = marginal_probabilities(results)\n",
    "#margCompare = marginal_probabilities_general(results)\n",
    "#print(margProb)\n",
    "#print(margCompare)"
   ]
  },
  {
   "cell_type": "code",
   "execution_count": 6,
   "metadata": {},
   "outputs": [],
   "source": [
    "def func(**counts):\n",
    "    return counts[\"c001\"]"
   ]
  },
  {
   "cell_type": "code",
   "execution_count": 7,
   "metadata": {},
   "outputs": [
    {
     "data": {
      "text/plain": [
       "82743"
      ]
     },
     "execution_count": 7,
     "metadata": {},
     "output_type": "execute_result"
    }
   ],
   "source": [
    "func(c000=4928, c001=82743, c100=48937, c111=9288842)"
   ]
  },
  {
   "cell_type": "code",
   "execution_count": null,
   "metadata": {},
   "outputs": [],
   "source": []
  }
 ],
 "metadata": {
  "kernelspec": {
   "display_name": "Python 3",
   "language": "python",
   "name": "python3"
  },
  "language_info": {
   "codemirror_mode": {
    "name": "ipython",
    "version": 3
   },
   "file_extension": ".py",
   "mimetype": "text/x-python",
   "name": "python",
   "nbconvert_exporter": "python",
   "pygments_lexer": "ipython3",
   "version": "3.7.6"
  }
 },
 "nbformat": 4,
 "nbformat_minor": 4
}
