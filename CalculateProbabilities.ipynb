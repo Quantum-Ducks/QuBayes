{
 "cells": [
  {
   "cell_type": "code",
   "execution_count": 85,
   "metadata": {},
   "outputs": [],
   "source": [
    "import numpy as np\n",
    "import pandas as pd\n",
    "import matplotlib.pyplot as plt"
   ]
  },
  {
   "cell_type": "code",
   "execution_count": 86,
   "metadata": {},
   "outputs": [],
   "source": [
    "data = pd.read_csv('lesser_model_data.csv')"
   ]
  },
  {
   "cell_type": "code",
   "execution_count": 87,
   "metadata": {},
   "outputs": [
    {
     "name": "stdout",
     "output_type": "stream",
     "text": [
      "Index(['Region', 'Region ID', 'MarCases', 'AprCases', 'MayCases', 'JunCases',\n",
      "       'MarHome', 'AprHome', 'MayHome', 'JunHome', 'MarTest', 'AprTest',\n",
      "       'MayTest', 'JunTest'],\n",
      "      dtype='object')\n"
     ]
    }
   ],
   "source": [
    "print(data.columns)"
   ]
  },
  {
   "cell_type": "code",
   "execution_count": 88,
   "metadata": {},
   "outputs": [],
   "source": [
    "def get_probabilities(states):\n",
    "    num_total = np.shape(states)[0] * np.shape(states)[1]\n",
    "    num_ones = np.shape(np.where(states == 1))[1]\n",
    "    num_zeros = num_total - num_ones\n",
    "\n",
    "    prob_one = num_ones/num_total\n",
    "    prob_zero = num_zeros/num_total\n",
    "    \n",
    "    assert round(prob_one+prob_zero, 3) == 1. \n",
    "    \n",
    "    return prob_one, prob_zero\n",
    "\n",
    "\n",
    "statedataStayHome = {'MarHome' : data['MarHome'], 'AprHome' : data['AprHome'], 'MayHome' : data['MayHome'], 'JunHome' : data['JunHome']}\n",
    "statesStayHome = pd.DataFrame(data=statedataStayHome)\n",
    "\n",
    "statedataTests = {'MarTest' : data['MarTest'], 'AprTest' : data['AprTest'], 'MayTest' : data['MayTest'], 'JunTest' : data['JunTest']}\n",
    "statesTests = pd.DataFrame(data=statedataTests)\n",
    "\n",
    "prob_goodTests, prob_badTests = get_probabilities(statesTests)\n",
    "prob_stayHome, prob_noStayHome = get_probabilities(statesStayHome)"
   ]
  },
  {
   "cell_type": "code",
   "execution_count": 91,
   "metadata": {},
   "outputs": [
    {
     "name": "stdout",
     "output_type": "stream",
     "text": [
      "['111' '101' '011' '001' '110' '100' '010' '000'] [0.76923077 0.29310345 0.15873016 0.18181818 0.23076923 0.70689655\n",
      " 0.84126984 0.81818182]\n"
     ]
    }
   ],
   "source": [
    "def get_conditional_probability(Astates, Bstates, Cstates):\n",
    "    \"\"\"A and B are parent nodes. C is child node\"\"\"\n",
    "    \n",
    "    num111, num101, num011, num001, num110, num100, num010, num000 = 0, 0, 0, 0, 0, 0, 0, 0\n",
    "    num11, num01, num10, num00 = 0,0,0,0\n",
    "    \n",
    "    #Add up states where C=1\n",
    "    indC_one_row = np.where(Cstates == 1)[0] \n",
    "    indC_one_col = np.where(Cstates == 1)[1] \n",
    "\n",
    "\n",
    "    for i in range(len(indC_one_col)): # Number of times C=1\n",
    "        A = Astates.iloc[indC_one_row[i], indC_one_col[i]]\n",
    "        B = Bstates.iloc[indC_one_row[i], indC_one_col[i]]\n",
    "        if A == 1:\n",
    "            if B == 1:\n",
    "                num111 += 1\n",
    "                num11 += 1\n",
    "            elif B == 0:\n",
    "                num101 += 1\n",
    "                num10 += 1\n",
    "        elif A == 0:\n",
    "            if B == 1:\n",
    "                num011 += 1\n",
    "                num01 += 1\n",
    "            elif B == 0:\n",
    "                num001 += 1\n",
    "                num00 += 1\n",
    "                \n",
    "    # Add up states where C=0\n",
    "    indC_zero_row = np.where(Cstates == 0)[0] \n",
    "    indC_zero_col = np.where(Cstates == 0)[1] \n",
    "\n",
    "\n",
    "    for i in range(len(indC_zero_col)): # Number of times C=0\n",
    "        A = Astates.iloc[indC_zero_row[i], indC_zero_col[i]]\n",
    "        B = Bstates.iloc[indC_zero_row[i], indC_zero_col[i]]\n",
    "        if A == 1:\n",
    "            if B == 1:\n",
    "                num110 += 1\n",
    "                num11 += 1\n",
    "            elif B == 0:\n",
    "                num100 += 1\n",
    "                num10 += 1\n",
    "        elif A == 0:\n",
    "            if B == 1:\n",
    "                num010 += 1\n",
    "                num01 += 1\n",
    "            elif B == 0:\n",
    "                num000 += 1\n",
    "                num00 += 1\n",
    "    \n",
    "    # Calculate conditional probabilities\n",
    "    num_total = np.shape(Astates)[0] * np.shape(Astates)[1]\n",
    "    \n",
    "    P111 = num111/num11\n",
    "    P101 = num101/num10\n",
    "    P011 = num011/num01\n",
    "    P001 = num001/num00\n",
    "    P110 = num110/num11\n",
    "    P100 = num100/num10\n",
    "    P010 = num010/num01\n",
    "    P000 = num000/num00\n",
    "    \n",
    "    #conditional_probabilities = np.array([['111','101','011','001','110','100','010','000'],[P111,P101,P011,P001,P110,P100,P010,P000]]).T\n",
    "    states = np.array(['111','101','011','001','110','100','010','000'])\n",
    "    conditional_probabilities = np.array([P111,P101,P011,P001,P110,P100,P010,P000])\n",
    "    \n",
    "    return states, conditional_probabilities\n",
    "                        \n",
    "\n",
    "statedataCases = {'MarCases' : data['MarCases'], 'AprCases' : data['AprCases'], 'MayCases' : data['MayCases'], 'JunCases' : data['JunCases']}\n",
    "statesCases = pd.DataFrame(data=statedataCases)\n",
    "\n",
    "states, cond_probs = get_conditional_probability(statesStayHome, statesTests, statesCases)\n",
    "print(states, cond_probs)"
   ]
  },
  {
   "cell_type": "code",
   "execution_count": null,
   "metadata": {},
   "outputs": [],
   "source": []
  }
 ],
 "metadata": {
  "kernelspec": {
   "display_name": "Python 3",
   "language": "python",
   "name": "python3"
  },
  "language_info": {
   "codemirror_mode": {
    "name": "ipython",
    "version": 3
   },
   "file_extension": ".py",
   "mimetype": "text/x-python",
   "name": "python",
   "nbconvert_exporter": "python",
   "pygments_lexer": "ipython3",
   "version": "3.8.2"
  }
 },
 "nbformat": 4,
 "nbformat_minor": 4
}
