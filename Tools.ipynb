{
 "cells": [
  {
   "cell_type": "code",
   "execution_count": 3,
   "metadata": {},
   "outputs": [],
   "source": [
    "from itertools import product"
   ]
  },
  {
   "cell_type": "code",
   "execution_count": 78,
   "metadata": {},
   "outputs": [],
   "source": [
    "def func(nodes):\n",
    "    ##############################################\n",
    "    ### INPUT ###\n",
    "    # nodes: list of number of states for each node; most significant (child) to least significant\n",
    "    \n",
    "    ### OUTPUT ###\n",
    "    # list of strings to use as keys for conditional probabilities (included commas in case there is ever an 11 state node!)\n",
    "    ##############################################\n",
    "    \n",
    "    ranges = [range(0, elem) for elem in nodes]\n",
    "    enumed = product(*ranges)\n",
    "    \n",
    "    cond_probs = []\n",
    "    for enum in enumed:\n",
    "        enum = list(enum)\n",
    "        parent_str = \",\".join(str(x) for x in enum[1:])\n",
    "        cond_probs.append(\"%s|%s\"%(str(enum[0]), parent_str))\n",
    "        \n",
    "    return cond_probs"
   ]
  },
  {
   "cell_type": "code",
   "execution_count": 80,
   "metadata": {},
   "outputs": [
    {
     "name": "stdout",
     "output_type": "stream",
     "text": [
      "['0|0,0,0', '0|0,0,1', '0|0,0,2', '0|0,0,3', '0|0,1,0', '0|0,1,1', '0|0,1,2', '0|0,1,3', '0|0,2,0', '0|0,2,1', '0|0,2,2', '0|0,2,3', '0|0,3,0', '0|0,3,1', '0|0,3,2', '0|0,3,3', '0|1,0,0', '0|1,0,1', '0|1,0,2', '0|1,0,3', '0|1,1,0', '0|1,1,1', '0|1,1,2', '0|1,1,3', '0|1,2,0', '0|1,2,1', '0|1,2,2', '0|1,2,3', '0|1,3,0', '0|1,3,1', '0|1,3,2', '0|1,3,3', '1|0,0,0', '1|0,0,1', '1|0,0,2', '1|0,0,3', '1|0,1,0', '1|0,1,1', '1|0,1,2', '1|0,1,3', '1|0,2,0', '1|0,2,1', '1|0,2,2', '1|0,2,3', '1|0,3,0', '1|0,3,1', '1|0,3,2', '1|0,3,3', '1|1,0,0', '1|1,0,1', '1|1,0,2', '1|1,0,3', '1|1,1,0', '1|1,1,1', '1|1,1,2', '1|1,1,3', '1|1,2,0', '1|1,2,1', '1|1,2,2', '1|1,2,3', '1|1,3,0', '1|1,3,1', '1|1,3,2', '1|1,3,3', '2|0,0,0', '2|0,0,1', '2|0,0,2', '2|0,0,3', '2|0,1,0', '2|0,1,1', '2|0,1,2', '2|0,1,3', '2|0,2,0', '2|0,2,1', '2|0,2,2', '2|0,2,3', '2|0,3,0', '2|0,3,1', '2|0,3,2', '2|0,3,3', '2|1,0,0', '2|1,0,1', '2|1,0,2', '2|1,0,3', '2|1,1,0', '2|1,1,1', '2|1,1,2', '2|1,1,3', '2|1,2,0', '2|1,2,1', '2|1,2,2', '2|1,2,3', '2|1,3,0', '2|1,3,1', '2|1,3,2', '2|1,3,3', '3|0,0,0', '3|0,0,1', '3|0,0,2', '3|0,0,3', '3|0,1,0', '3|0,1,1', '3|0,1,2', '3|0,1,3', '3|0,2,0', '3|0,2,1', '3|0,2,2', '3|0,2,3', '3|0,3,0', '3|0,3,1', '3|0,3,2', '3|0,3,3', '3|1,0,0', '3|1,0,1', '3|1,0,2', '3|1,0,3', '3|1,1,0', '3|1,1,1', '3|1,1,2', '3|1,1,3', '3|1,2,0', '3|1,2,1', '3|1,2,2', '3|1,2,3', '3|1,3,0', '3|1,3,1', '3|1,3,2', '3|1,3,3']\n"
     ]
    }
   ],
   "source": [
    "print((func([4,2,4,4]))) #I feel so powerful omg!!"
   ]
  }
 ],
 "metadata": {
  "kernelspec": {
   "display_name": "Python 3",
   "language": "python",
   "name": "python3"
  },
  "language_info": {
   "codemirror_mode": {
    "name": "ipython",
    "version": 3
   },
   "file_extension": ".py",
   "mimetype": "text/x-python",
   "name": "python",
   "nbconvert_exporter": "python",
   "pygments_lexer": "ipython3",
   "version": "3.7.6"
  }
 },
 "nbformat": 4,
 "nbformat_minor": 4
}
