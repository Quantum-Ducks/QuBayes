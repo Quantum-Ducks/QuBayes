{
 "cells": [
  {
   "cell_type": "code",
   "execution_count": 1,
   "metadata": {},
   "outputs": [],
   "source": [
    "import numpy as np\n",
    "import pandas as pd\n",
    "import matplotlib.pyplot as plt"
   ]
  },
  {
   "cell_type": "code",
   "execution_count": 2,
   "metadata": {},
   "outputs": [],
   "source": [
    "data = pd.read_csv('lesser_model_data.csv')\n"
   ]
  },
  {
   "cell_type": "code",
   "execution_count": 3,
   "metadata": {},
   "outputs": [],
   "source": [
    "def get_lesser_model_states():\n",
    "    statedataStayHome = {'MarHome' : data['MarHome'], 'AprHome' : data['AprHome'], 'MayHome' : data['MayHome'], 'JunHome' : data['JunHome']}\n",
    "    statesStayHome = pd.DataFrame(data=statedataStayHome)\n",
    "\n",
    "    statedataTests = {'MarTest' : data['MarTest'], 'AprTest' : data['AprTest'], 'MayTest' : data['MayTest'], 'JunTest' : data['JunTest']}\n",
    "    statesTests = pd.DataFrame(data=statedataTests)\n",
    "\n",
    "    statedataCases = {'MarCases' : data['MarCases'], 'AprCases' : data['AprCases'], 'MayCases' : data['MayCases'], 'JunCases' : data['JunCases']}\n",
    "    statesCases = pd.DataFrame(data=statedataCases) # 0 = increasing. 1 = flat or decreasing\n",
    "    \n",
    "    return statesStayHome, statesTests, statesCases\n"
   ]
  },
  {
   "cell_type": "code",
   "execution_count": 5,
   "metadata": {},
   "outputs": [],
   "source": [
    "def get_probabilities(states):\n",
    "    num_total = np.shape(states)[0] * np.shape(states)[1]\n",
    "    \n",
    "    num_ones = np.shape(np.where(states == 1))[1]\n",
    "    num_zeros = num_total - num_ones\n",
    "\n",
    "    prob_one = num_ones/num_total\n",
    "    prob_zero = num_zeros/num_total\n",
    "    \n",
    "    assert round(prob_one+prob_zero, 3) == 1. \n",
    "    \n",
    "    return prob_one, prob_zero"
   ]
  },
  {
   "cell_type": "code",
   "execution_count": 12,
   "metadata": {},
   "outputs": [],
   "source": [
    "def get_conditional_probability(Astates, Bstates, Cstates):\n",
    "    \"\"\"A and B are parent nodes. C is child node\"\"\"\n",
    "    \n",
    "    num111, num101, num011, num001, num110, num100, num010, num000 = 0, 0, 0, 0, 0, 0, 0, 0\n",
    "    num11, num01, num10, num00 = 0,0,0,0\n",
    "    \n",
    "    \n",
    "    #Add up cases where C=1\n",
    "    indC_one_row = np.where(Cstates == 1)[0] #index of row with a 1\n",
    "    indC_one_col = np.where(Cstates == 1)[1] #index of corresponding coln with a 1\n",
    "\n",
    "    for i in range(len(indC_one_col)): # loop through all times C=1\n",
    "        A = Astates.iloc[indC_one_row[i], indC_one_col[i]]\n",
    "        B = Bstates.iloc[indC_one_row[i], indC_one_col[i]]\n",
    "        if A == 1:\n",
    "            if B == 1:\n",
    "                num111 += 1  #C=1, B=1, A=1\n",
    "                num11 += 1  #B=1, A=1\n",
    "            elif B == 0:\n",
    "                num101 += 1  #C=1, B=0, A=1\n",
    "                num01 += 1  #B=0, A=1\n",
    "        elif A == 0:\n",
    "            if B == 1:\n",
    "                num110 += 1  #C=1, B=1, A=0\n",
    "                num10 += 1  #B=1, A=0\n",
    "            elif B == 0:\n",
    "                num100 += 1  #C=1, B=0, A=0\n",
    "                num00 += 1  #B=0, A=0\n",
    "                \n",
    "    # Add up states where C=0\n",
    "    indC_zero_row = np.where(Cstates == 0)[0] \n",
    "    indC_zero_col = np.where(Cstates == 0)[1] \n",
    "\n",
    "\n",
    "    for i in range(len(indC_zero_col)): # loop through all times C=0\n",
    "        A = Astates.iloc[indC_zero_row[i], indC_zero_col[i]]\n",
    "        B = Bstates.iloc[indC_zero_row[i], indC_zero_col[i]]\n",
    "        if A == 1:\n",
    "            if B == 1:\n",
    "                num011 += 1  #C=0, B=1, A=1\n",
    "                num11 += 1  #B=1, A=1\n",
    "            elif B == 0:\n",
    "                num001 += 1  #C=0, B=0, A=1\n",
    "                num01 += 1  #B=0, A=1\n",
    "        elif A == 0:\n",
    "            if B == 1:\n",
    "                num010 += 1  #C=0, B=1, A=0\n",
    "                num10 += 1  #B=1, A=0\n",
    "            elif B == 0:\n",
    "                num000 += 1  #C=0, B=0, A=0\n",
    "                num00 += 1  #B=0, A=0\n",
    "    \n",
    "    # Calculate conditional probabilities\n",
    "    num_total = np.shape(Astates)[0] * np.shape(Astates)[1]\n",
    "    \n",
    "    \"\"\"The variable names are in the order CBA (cases, testing, stay at home). \"\"\"\n",
    "    P111 = num111/num11\n",
    "    P101 = num101/num01\n",
    "    P110 = num110/num10\n",
    "    P100 = num100/num00\n",
    "    P011 = num011/num11\n",
    "    P001 = num001/num01\n",
    "    P010 = num010/num10\n",
    "    P000 = num000/num00\n",
    "    \n",
    "    states = np.array(['0|00','1|00','0|01','1|01','0|10','1|10','0|11','1|11']) #I believe this is the order Matt was talking about with top to bottom, left to right in the table from the paper\n",
    "    conditional_probabilities = np.array([P000,P100,P001,P101,P010,P110,P011,P111]) #in this order, the first two, second two, etc. should each add to 1 as pairs (columns in the paper's table)\n",
    "    \n",
    "    # Make graph for circuit input\n",
    "    ProbA1, ProbA0 = get_probabilities(Astates)\n",
    "    ProbB1, ProbB0 = get_probabilities(Bstates)\n",
    "    \n",
    "    graph = { 'StayAtHome': ([], [ProbA0, ProbA1]), # P(A = 0), P(A = 1)\n",
    "                'Testing': ([], [ProbB0, ProbB1]),  #P(B = 0), P(B = 1)\n",
    "                #P(C=0|A=0,B=0), P(C=1|A=0,B=0), P(C=0|A=0,B=1), P(C=1|A=0,B=1), P(C=0|A=1,B=0), P(C=1|A=1,B=0), P(C=0|A=1,B=1), P(C=1|A=1,B=1)\n",
    "                'Cases': (['StayAtHome','Testing'], [P000, P100, P010, P110, P001, P101, P011, P111])\n",
    "              }\n",
    "    \n",
    "    return states, conditional_probabilities, graph"
   ]
  },
  {
   "cell_type": "code",
   "execution_count": null,
   "metadata": {},
   "outputs": [],
   "source": []
  }
 ],
 "metadata": {
  "kernelspec": {
   "display_name": "Python 3",
   "language": "python",
   "name": "python3"
  },
  "language_info": {
   "codemirror_mode": {
    "name": "ipython",
    "version": 3
   },
   "file_extension": ".py",
   "mimetype": "text/x-python",
   "name": "python",
   "nbconvert_exporter": "python",
   "pygments_lexer": "ipython3",
   "version": "3.7.7"
  }
 },
 "nbformat": 4,
 "nbformat_minor": 4
}
