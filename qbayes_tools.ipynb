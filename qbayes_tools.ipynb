{
 "cells": [
  {
   "cell_type": "code",
   "execution_count": 10,
   "metadata": {},
   "outputs": [],
   "source": [
    "from itertools import product\n",
    "import numpy as np"
   ]
  },
  {
   "cell_type": "code",
   "execution_count": 11,
   "metadata": {},
   "outputs": [],
   "source": [
    "def generate_cond_keys(s_0, s_i):\n",
    "    ##############################################\n",
    "    #THIS FUNCTION WILL GENERATE A LIST OF STRINGS TO USE AS KEYS FOR CONDITIONAL PROBABILITIES\n",
    "    ### INPUT ###\n",
    "    # s_0    int    number of states of the child node\n",
    "    # s_i    list   number of states for each parent node, from most to least significant\n",
    "    \n",
    "    ### OUTPUT ###\n",
    "    # list of strings to use as keys for conditional probabilities (included commas in case there is ever an >11-state node!)\n",
    "    ##############################################\n",
    "    \n",
    "    ranges = [range(0, elem) for elem in list([s_0])+list(s_i)]\n",
    "    enumed = product(*ranges)\n",
    "    \n",
    "    cond_keys = []\n",
    "    for enum in enumed:\n",
    "        enum = list(enum)\n",
    "        parent_str = \",\".join(str(x) for x in enum[1:])\n",
    "        cond_keys.append(\"%s|%s\"%(str(enum[0]), parent_str))\n",
    "        \n",
    "    return cond_keys"
   ]
  },
  {
   "cell_type": "code",
   "execution_count": 1,
   "metadata": {},
   "outputs": [],
   "source": [
    "class Node:\n",
    "    # A single variable in the Bayesian network\n",
    "    def __init__(self, name, data, states=None, parents=[]):\n",
    "        ### INPUTS ###\n",
    "        # name:    str    name of variable\n",
    "        # data:    array  state data for the node\n",
    "        # states:  dict   keys are state names, values are the int each takes on in the data\n",
    "        # parents: list   strings of names of parent nodes to this node\n",
    "        ##############\n",
    "        \n",
    "        if states == None:\n",
    "            states = {}\n",
    "            for i in range(max(data) + 1):\n",
    "                states.update({str(i) : i})\n",
    "        \n",
    "        self.name = name\n",
    "        self.data = data\n",
    "        self.states = states\n",
    "        self.parents = parents"
   ]
  },
  {
   "cell_type": "code",
   "execution_count": null,
   "metadata": {},
   "outputs": [],
   "source": []
  }
 ],
 "metadata": {
  "kernelspec": {
   "display_name": "Python 3",
   "language": "python",
   "name": "python3"
  },
  "language_info": {
   "codemirror_mode": {
    "name": "ipython",
    "version": 3
   },
   "file_extension": ".py",
   "mimetype": "text/x-python",
   "name": "python",
   "nbconvert_exporter": "python",
   "pygments_lexer": "ipython3",
   "version": "3.7.6"
  }
 },
 "nbformat": 4,
 "nbformat_minor": 4
}
