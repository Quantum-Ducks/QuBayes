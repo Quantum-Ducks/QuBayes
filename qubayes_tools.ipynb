{
 "cells": [
  {
   "cell_type": "code",
   "execution_count": 6,
   "metadata": {},
   "outputs": [],
   "source": [
    "from itertools import product\n",
    "import numpy as np\n",
    "from network_setup_temp import *"
   ]
  },
  {
   "cell_type": "code",
   "execution_count": 19,
   "metadata": {},
   "outputs": [],
   "source": [
    "def generate_cond_keys(child, ps):\n",
    "    ##############################################\n",
    "    #THIS FUNCTION WILL GENERATE A LIST OF STRINGS TO USE AS KEYS FOR CONDITIONAL PROBABILITIES\n",
    "    ### INPUT ###\n",
    "    # s_0    int    number of states of the child node\n",
    "    # s_i    list   number of states for each parent node, from most to least significant\n",
    "    \n",
    "    ### OUTPUT ###\n",
    "    # list of strings to use as keys for conditional probabilities (included commas in case there is ever an >11-state node!)\n",
    "    ##############################################\n",
    "    \n",
    "    cname = child.name\n",
    "    cstates = child.states\n",
    "    \n",
    "    ranges = [[child.name], child.states.keys()]\n",
    "    for p in ps:\n",
    "        ranges.append([str(p.name)])\n",
    "        ranges.append(p.states.keys())\n",
    "    enumed = product(*ranges)\n",
    "\n",
    "    add = [\",\",\"_\"]\n",
    "    cond_keys = []\n",
    "    for enum in enumed:\n",
    "        suff = 0\n",
    "        enum = list(enum)\n",
    "        parent_str = ''\n",
    "        for i in range(2,len(enum)-1):\n",
    "            suff = (suff + 1)%2\n",
    "            parent_str += str(enum[i]) + add[suff]\n",
    "        parent_str += str(enum[len(enum)-1])\n",
    "        cond_keys.append(\"%s_%s|%s\"%(str(enum[0]), str(enum[1]), parent_str))\n",
    "        \n",
    "    return cond_keys"
   ]
  },
  {
   "cell_type": "code",
   "execution_count": 25,
   "metadata": {},
   "outputs": [],
   "source": [
    "def generate_parent_str(ps):\n",
    "    ##############################################\n",
    "    #THIS FUNCTION WILL GENERATE A LIST OF STRINGS TO USE AS KEYS FOR CONDITIONAL PROBABILITIES\n",
    "    ### INPUT ###\n",
    "    # s_0    int    number of states of the child node\n",
    "    # s_i    list   number of states for each parent node, from most to least significant\n",
    "    \n",
    "    ### OUTPUT ###\n",
    "    # list of strings to use as keys for conditional probabilities (included commas in case there is ever an >11-state node!)\n",
    "    ##############################################\n",
    "\n",
    "    ranges = []\n",
    "    for p in ps:\n",
    "        ranges.append([str(p.name)])\n",
    "        ranges.append(p.states.keys())\n",
    "    enumed = product(*ranges)\n",
    "\n",
    "    add = [\",\",\"_\"]\n",
    "    cond_keys = []\n",
    "    for enum in enumed:\n",
    "        suff = 0\n",
    "        enum = list(enum)\n",
    "        parent_str = ''\n",
    "        for i in range(len(enum)-1):\n",
    "            suff = (suff + 1)%2\n",
    "            parent_str += str(enum[i]) + add[suff]\n",
    "        parent_str += str(enum[len(enum)-1])\n",
    "        cond_keys.append(\"%s\"%(parent_str))\n",
    "        \n",
    "    return cond_keys"
   ]
  },
  {
   "cell_type": "code",
   "execution_count": null,
   "metadata": {},
   "outputs": [],
   "source": []
  },
  {
   "cell_type": "code",
   "execution_count": 26,
   "metadata": {},
   "outputs": [],
   "source": [
    "class Node:\n",
    "    # A single variable in the Bayesian network\n",
    "    def __init__(self, name, data, states=None, parents=[]):\n",
    "        ### INPUTS ###\n",
    "        # name:    str    name of variable\n",
    "        # data:    array  state data for the node\n",
    "        # states:  dict   keys are state names, values are the int each takes on in the data\n",
    "        # parents: list   strings of names of parent nodes to this node\n",
    "        ##############\n",
    "        \n",
    "        if states == None:\n",
    "            states = {}\n",
    "            for i in range(max(data) + 1):\n",
    "                states.update({str(i) : i})\n",
    "        \n",
    "        self.name = name\n",
    "        self.data = data\n",
    "        self.states = states\n",
    "        self.parents = parents"
   ]
  },
  {
   "cell_type": "code",
   "execution_count": 27,
   "metadata": {},
   "outputs": [],
   "source": [
    "C,B,A = get_lesser_model_nodes()"
   ]
  },
  {
   "cell_type": "code",
   "execution_count": 30,
   "metadata": {},
   "outputs": [
    {
     "data": {
      "text/plain": [
       "['Cases_Inc,Tests_GT5,StayHome_No',\n",
       " 'Cases_Inc,Tests_GT5,StayHome_Yes',\n",
       " 'Cases_Inc,Tests_LE5,StayHome_No',\n",
       " 'Cases_Inc,Tests_LE5,StayHome_Yes',\n",
       " 'Cases_noInc,Tests_GT5,StayHome_No',\n",
       " 'Cases_noInc,Tests_GT5,StayHome_Yes',\n",
       " 'Cases_noInc,Tests_LE5,StayHome_No',\n",
       " 'Cases_noInc,Tests_LE5,StayHome_Yes']"
      ]
     },
     "execution_count": 30,
     "metadata": {},
     "output_type": "execute_result"
    }
   ],
   "source": [
    "generate_parent_str([C,B,A])"
   ]
  },
  {
   "cell_type": "code",
   "execution_count": null,
   "metadata": {},
   "outputs": [],
   "source": []
  }
 ],
 "metadata": {
  "kernelspec": {
   "display_name": "Python 3",
   "language": "python",
   "name": "python3"
  },
  "language_info": {
   "codemirror_mode": {
    "name": "ipython",
    "version": 3
   },
   "file_extension": ".py",
   "mimetype": "text/x-python",
   "name": "python",
   "nbconvert_exporter": "python",
   "pygments_lexer": "ipython3",
   "version": "3.7.6"
  }
 },
 "nbformat": 4,
 "nbformat_minor": 4
}
