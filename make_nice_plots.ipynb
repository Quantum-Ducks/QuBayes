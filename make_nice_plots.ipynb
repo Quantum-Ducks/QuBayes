{
 "cells": [
  {
   "cell_type": "code",
   "execution_count": 1,
   "metadata": {},
   "outputs": [],
   "source": [
    "import numpy as np\n",
    "import matplotlib.pyplot as plt"
   ]
  },
  {
   "cell_type": "code",
   "execution_count": 17,
   "metadata": {},
   "outputs": [],
   "source": [
    "results = {'000': 2783, '001': 1240, '100': 603, '111': 815, '110': 294, '010': 1712, '101': 485, '011': 260}\n",
    "\n",
    "results_maxtomin = {'000': 2783, '010': 1712, '001': 1240, '111': 815, '100': 603, '101': 485, '110': 294, '011': 260}"
   ]
  },
  {
   "cell_type": "code",
   "execution_count": 19,
   "metadata": {},
   "outputs": [
    {
     "data": {
      "image/png": "[encoded data removed]",
      "text/plain": [
       "<Figure size 432x288 with 1 Axes>"
      ]
     },
     "metadata": {
      "needs_background": "light"
     },
     "output_type": "display_data"
    }
   ],
   "source": [
    "def determine_color(Cstate, Bstate, Astate):\n",
    "    if Cstate == '0':\n",
    "        Ccolor='red'\n",
    "    elif Cstate=='1':\n",
    "        Ccolor='green'\n",
    "    if Bstate == '0':\n",
    "        Bcolor='red'\n",
    "    elif Bstate=='1':\n",
    "        Bcolor='green'\n",
    "    if Astate == '0':\n",
    "        Acolor='red'\n",
    "    elif Astate=='1':\n",
    "        Acolor='green'\n",
    "    return [Ccolor, Bcolor, Acolor]\n",
    "\n",
    "def make_counts_hist(counts_results):\n",
    "    probabilities = np.array([counts_results[k] for k in counts_results]) / sum(counts_results.values())\n",
    "    print(probabilities)\n",
    "    plt.bar(list(counts_results.keys()), counts_results.values())\n",
    "    plt.ylabel('Counts')    \n",
    "    plt.xticks(list(counts_results.keys()), [None])\n",
    "    xpos_text = -0.3\n",
    "    for key in counts_results:\n",
    "        Cstate=key[0]\n",
    "        Bstate=key[1]\n",
    "        Astate=key[2]\n",
    "        Ccolor, Bcolor, Acolor = determine_color(Cstate, Bstate, Astate)\n",
    "        plt.text(xpos_text, -200,'Cases', color=Ccolor)\n",
    "        plt.text(xpos_text, -400, 'Tests', color=Bcolor)\n",
    "        plt.text(xpos_text, -600,'Home', color=Acolor)\n",
    "        xpos_text += 1\n",
    "    plt.show()\n",
    "    return\n",
    "\n",
    "def make_prob_hist(counts_results):\n",
    "    probabilities = np.array([counts_results[k] for k in counts_results]) / sum(counts_results.values())\n",
    "    #plt.bar(list(counts_results.keys()), probabilities)\n",
    "    plt.bar(np.arange(8), probabilities)\n",
    "    plt.ylabel('Probability')\n",
    "    #plt.yticks(probabilities)\n",
    "    \n",
    "    \n",
    "    plt.xticks(np.arange(8), [None])\n",
    "    xpos_text = -0.3\n",
    "    for key in counts_results:\n",
    "        Cstate=key[0]\n",
    "        Bstate=key[1]\n",
    "        Astate=key[2]\n",
    "        Ccolor, Bcolor, Acolor = determine_color(Cstate, Bstate, Astate)\n",
    "        plt.text(xpos_text, -0.03,'Cases', color=Ccolor)\n",
    "        plt.text(xpos_text, -0.05, 'Tests', color=Bcolor)\n",
    "        plt.text(xpos_text, -0.07,'Home', color=Acolor)\n",
    "        xpos_text += 1\n",
    "    plt.show()\n",
    "    return\n",
    "\n",
    "make_prob_hist(results_maxtomin)        \n"
   ]
  },
  {
   "cell_type": "code",
   "execution_count": null,
   "metadata": {},
   "outputs": [],
   "source": []
  }
 ],
 "metadata": {
  "kernelspec": {
   "display_name": "Python 3",
   "language": "python",
   "name": "python3"
  },
  "language_info": {
   "codemirror_mode": {
    "name": "ipython",
    "version": 3
   },
   "file_extension": ".py",
   "mimetype": "text/x-python",
   "name": "python",
   "nbconvert_exporter": "python",
   "pygments_lexer": "ipython3",
   "version": "3.8.2"
  }
 },
 "nbformat": 4,
 "nbformat_minor": 4
}
