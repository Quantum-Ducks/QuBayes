{
 "cells": [
  {
   "cell_type": "code",
   "execution_count": 1,
   "metadata": {},
   "outputs": [],
   "source": [
    "import numpy as np"
   ]
  },
  {
   "cell_type": "code",
   "execution_count": 1,
   "metadata": {},
   "outputs": [],
   "source": [
    "def get_marginal_0probabilities(n, ntwk_results):\n",
    "    #n: int, number of information-holding qubits\n",
    "    #ntwk_results: dict?, probabilities resulting from network run (should have 2^n values, I think?)\n",
    "    #marg_probs: array of length n, marginal probabilities that each qubit is 0 -- the other can be found by subtracting from 1 ;)\n",
    "    for i in range(n):\n",
    "        prob = 0\n",
    "        #add states where q1=0\n",
    "        # that is, where *...*0*...* where there are n-1 wildcards and 1 zero in the ith position, but idk how this works with dictionary keys..."
   ]
  },
  {
   "cell_type": "code",
   "execution_count": null,
   "metadata": {},
   "outputs": [],
   "source": [
    "#take the network output (counts, usually?) and turn it into probabilities\n",
    "#run the function"
   ]
  }
 ],
 "metadata": {
  "kernelspec": {
   "display_name": "Python 3",
   "language": "python",
   "name": "python3"
  },
  "language_info": {
   "codemirror_mode": {
    "name": "ipython",
    "version": 3
   },
   "file_extension": ".py",
   "mimetype": "text/x-python",
   "name": "python",
   "nbconvert_exporter": "python",
   "pygments_lexer": "ipython3",
   "version": "3.7.6"
  }
 },
 "nbformat": 4,
 "nbformat_minor": 4
}
