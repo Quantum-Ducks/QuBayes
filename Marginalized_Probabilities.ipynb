{
 "cells": [
  {
   "cell_type": "code",
   "execution_count": 3,
   "metadata": {},
   "outputs": [],
   "source": [
    "import numpy as np"
   ]
  },
  {
   "cell_type": "code",
   "execution_count": 47,
   "metadata": {},
   "outputs": [],
   "source": [
    "def get_marginal_0probabilities(ntwk_results):\n",
    "    #ntwk_results: dict, counts resulting from network run (should have 2^n entries)\n",
    "    #marg_probs: array of length n, marginal probabilities that each qubit is 0,\n",
    "        #from most significant to least significant\n",
    "    \n",
    "    n = len(list(ntwk_results.keys())[0])\n",
    "    prob = np.zeros(n)\n",
    "    total = sum(ntwk_results.values())\n",
    "\n",
    "    for i in range(n):\n",
    "        for key in ntwk_results:\n",
    "            if int(key[i]) == 0:\n",
    "                prob[i] += ntwk_results[key]\n",
    "        prob[i] = prob[i]/total\n",
    "    \n",
    "    return prob"
   ]
  },
  {
   "cell_type": "code",
   "execution_count": 48,
   "metadata": {},
   "outputs": [
    {
     "name": "stdout",
     "output_type": "stream",
     "text": [
      "[0.73181152 0.62390137 0.65820312]\n"
     ]
    }
   ],
   "source": [
    "result1 = {'000': 2783, '001': 1240, '100': 603, '111': 815, '110': 294, '010': 1712, '101': 485, '011': 260}\n",
    "print(get_marginal_0probabilities(result1))"
   ]
  },
  {
   "cell_type": "code",
   "execution_count": null,
   "metadata": {},
   "outputs": [],
   "source": [
    "#YAY! It's the same answer as Ella's gave"
   ]
  },
  {
   "cell_type": "code",
   "execution_count": null,
   "metadata": {},
   "outputs": [],
   "source": []
  }
 ],
 "metadata": {
  "kernelspec": {
   "display_name": "Python 3",
   "language": "python",
   "name": "python3"
  },
  "language_info": {
   "codemirror_mode": {
    "name": "ipython",
    "version": 3
   },
   "file_extension": ".py",
   "mimetype": "text/x-python",
   "name": "python",
   "nbconvert_exporter": "python",
   "pygments_lexer": "ipython3",
   "version": "3.7.6"
  }
 },
 "nbformat": 4,
 "nbformat_minor": 4
}
