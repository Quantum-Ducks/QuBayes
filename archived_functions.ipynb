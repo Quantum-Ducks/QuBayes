{
 "cells": [
  {
   "cell_type": "code",
   "execution_count": 7,
   "metadata": {},
   "outputs": [],
   "source": [
    "# These are versions of some of our important functions\n",
    "# that were duplicates or non-generalized forms that I\n",
    "# am retiring to here in case something goes wrong\n",
    "\n",
    "import numpy as np"
   ]
  },
  {
   "cell_type": "code",
   "execution_count": 8,
   "metadata": {},
   "outputs": [],
   "source": [
    "def Margies_marginal_probabilities(ntwk_results): #a combined version of this with Ella's is kept in the real code\n",
    "    #ntwk_results: dict, counts resulting from network run (should have 2^n entries)\n",
    "    #marg_probs: array of length n, marginal probabilities that each qubit is 0,\n",
    "        #from most significant to least significant\n",
    "    \n",
    "    n = len(list(ntwk_results.keys())[0])\n",
    "    prob = np.zeros(n)\n",
    "    total = sum(ntwk_results.values())\n",
    "\n",
    "    for i in range(n):\n",
    "        for key in ntwk_results:\n",
    "            if int(key[i]) == 0:\n",
    "                prob[i] += ntwk_results[key]\n",
    "        prob[i] = prob[i]/total\n",
    "    \n",
    "    return prob"
   ]
  },
  {
   "cell_type": "code",
   "execution_count": 9,
   "metadata": {},
   "outputs": [],
   "source": [
    "def Ella_3qubit_marginal_probabilities(pstates_dict):\n",
    "    # Works for 3 qubits only\n",
    "    C0, B0, A0, numtot = 0, 0, 0, 0\n",
    "\n",
    "    for key in pstates_dict:\n",
    "        Cstate=key[0]\n",
    "        Bstate=key[1]\n",
    "        Astate=key[2]\n",
    "        numtot += pstates_dict[key]\n",
    "        if Cstate == '0':\n",
    "            C0 += pstates_dict[key]\n",
    "        if Bstate == '0':\n",
    "            B0 += pstates_dict[key]\n",
    "        if Astate == '0':\n",
    "            A0 += pstates_dict[key]\n",
    "        \n",
    "    ProbC0 = C0/numtot\n",
    "    ProbB0 = B0/numtot\n",
    "    ProbA0 = A0/numtot\n",
    "\n",
    "    return ProbC0, ProbB0, ProbA0"
   ]
  },
  {
   "cell_type": "code",
   "execution_count": 10,
   "metadata": {},
   "outputs": [],
   "source": [
    "def Ella_marginal_probabilities_general(pstates_dict):\n",
    "    \"\"\"Works for n qubits\"\"\"\n",
    "    n = len(list(pstates_dict.keys())[0]) #number of qubits in state\n",
    "    Probs = np.empty(n)\n",
    "    numZeros, numtot = np.zeros(n), 0\n",
    "\n",
    "    for key in pstates_dict:\n",
    "        numtot += pstates_dict[key]\n",
    "        for i in range(n):\n",
    "            #print(i)\n",
    "            state=key[i]\n",
    "            if state == '0':\n",
    "                numZeros[i] += pstates_dict[key]\n",
    "    for i in range(n):\n",
    "        Probs[i] = numZeros[i]/numtot\n",
    "\n",
    "    return Probs"
   ]
  },
  {
   "cell_type": "code",
   "execution_count": 15,
   "metadata": {},
   "outputs": [
    {
     "name": "stdout",
     "output_type": "stream",
     "text": [
      "[0.73181152 0.62390137 0.65820312]\n"
     ]
    }
   ],
   "source": [
    "# Test the marginal prob functions with some simulated output from our 3 qubit run!\n",
    "\n",
    "#pick the function to use (comment others out)\n",
    "funct = Ella_marginal_probabilities_general\n",
    "#funct = Ella_3qubit_marginal_probabilities\n",
    "#funct = Margies_marginal_probabilities\n",
    "\n",
    "result1 = {'000': 2783, '001': 1240, '100': 603, '111': 815, '110': 294, '010': 1712, '101': 485, '011': 260}\n",
    "print(funct(result1))"
   ]
  },
  {
   "cell_type": "code",
   "execution_count": null,
   "metadata": {},
   "outputs": [],
   "source": []
  }
 ],
 "metadata": {
  "kernelspec": {
   "display_name": "Python 3",
   "language": "python",
   "name": "python3"
  },
  "language_info": {
   "codemirror_mode": {
    "name": "ipython",
    "version": 3
   },
   "file_extension": ".py",
   "mimetype": "text/x-python",
   "name": "python",
   "nbconvert_exporter": "python",
   "pygments_lexer": "ipython3",
   "version": "3.7.6"
  }
 },
 "nbformat": 4,
 "nbformat_minor": 4
}
