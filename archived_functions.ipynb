{
 "cells": [
  {
   "cell_type": "code",
   "execution_count": 15,
   "metadata": {},
   "outputs": [],
   "source": [
    "# These are versions of some of our important functions\n",
    "# that were duplicates or non-generalized forms that I\n",
    "# am retiring to here in case something goes wrong\n",
    "import pandas as pd\n",
    "import numpy as np"
   ]
  },
  {
   "cell_type": "code",
   "execution_count": 2,
   "metadata": {},
   "outputs": [],
   "source": [
    "def get_probabilities_2state_sys(states):\n",
    "    num_total = np.shape(states)[0] * np.shape(states)[1]\n",
    "    \n",
    "    num_ones = np.shape(np.where(states == 1))[1]\n",
    "    num_zeros = num_total - num_ones\n",
    "\n",
    "    prob_one = num_ones/num_total\n",
    "    prob_zero = num_zeros/num_total\n",
    "    \n",
    "    assert round(prob_one+prob_zero, 3) == 1. \n",
    "    \n",
    "    return prob_one, prob_zero"
   ]
  },
  {
   "cell_type": "code",
   "execution_count": 18,
   "metadata": {},
   "outputs": [],
   "source": [
    "def get_conditional_probability_2parent_2state(Astates, Bstates, Cstates): #I'm in progress of generalizing this in probabilities.ipynb, but feel free to pick up where I left off\n",
    "    \"\"\"A and B are parent nodes. C is child node\"\"\"\n",
    "    \n",
    "    num111, num101, num011, num001, num110, num100, num010, num000 = 0, 0, 0, 0, 0, 0, 0, 0\n",
    "    num11, num01, num10, num00 = 0,0,0,0\n",
    "    \n",
    "    \n",
    "    #Add up cases where C=1\n",
    "    indC_one_row = np.where(Cstates == 1)[0] #index of row with a 1\n",
    "    indC_one_col = np.where(Cstates == 1)[1] #index of corresponding coln with a 1\n",
    "\n",
    "    for i in range(len(indC_one_col)): # loop through all times C=1\n",
    "        A = Astates.iloc[indC_one_row[i], indC_one_col[i]]\n",
    "        B = Bstates.iloc[indC_one_row[i], indC_one_col[i]]\n",
    "        if A == 1:\n",
    "            if B == 1:\n",
    "                num111 += 1  #C=1, B=1, A=1\n",
    "                num11 += 1  #B=1, A=1\n",
    "            elif B == 0:\n",
    "                num101 += 1  #C=1, B=0, A=1\n",
    "                num01 += 1  #B=0, A=1\n",
    "        elif A == 0:\n",
    "            if B == 1:\n",
    "                num110 += 1  #C=1, B=1, A=0\n",
    "                num10 += 1  #B=1, A=0\n",
    "            elif B == 0:\n",
    "                num100 += 1  #C=1, B=0, A=0\n",
    "                num00 += 1  #B=0, A=0\n",
    "                \n",
    "    # Add up states where C=0\n",
    "    indC_zero_row = np.where(Cstates == 0)[0] \n",
    "    indC_zero_col = np.where(Cstates == 0)[1] \n",
    "\n",
    "\n",
    "    for i in range(len(indC_zero_col)): # loop through all times C=0\n",
    "        A = Astates.iloc[indC_zero_row[i], indC_zero_col[i]]\n",
    "        B = Bstates.iloc[indC_zero_row[i], indC_zero_col[i]]\n",
    "        if A == 1:\n",
    "            if B == 1:\n",
    "                num011 += 1  #C=0, B=1, A=1\n",
    "                num11 += 1  #B=1, A=1\n",
    "            elif B == 0:\n",
    "                num001 += 1  #C=0, B=0, A=1\n",
    "                num01 += 1  #B=0, A=1\n",
    "        elif A == 0:\n",
    "            if B == 1:\n",
    "                num010 += 1  #C=0, B=1, A=0\n",
    "                num10 += 1  #B=1, A=0\n",
    "            elif B == 0:\n",
    "                num000 += 1  #C=0, B=0, A=0\n",
    "                num00 += 1  #B=0, A=0\n",
    "    \n",
    "    # Calculate conditional probabilities\n",
    "    num_total = np.shape(Astates)[0] * np.shape(Astates)[1]\n",
    "    \n",
    "    \"\"\"The variable names are in the order CBA (cases, testing, stay at home). \"\"\"\n",
    "    P111 = num111/num11\n",
    "    P101 = num101/num01\n",
    "    P110 = num110/num10\n",
    "    P100 = num100/num00\n",
    "    P011 = num011/num11\n",
    "    P001 = num001/num01\n",
    "    P010 = num010/num10\n",
    "    P000 = num000/num00\n",
    "    \n",
    "    states = np.array(['0|00','1|00','0|01','1|01','0|10','1|10','0|11','1|11']) #I believe this is the order Matt was talking about with top to bottom, left to right in the table from the paper\n",
    "    conditional_probabilities = np.array([P000,P100,P001,P101,P010,P110,P011,P111]) #in this order, the first two, second two, etc. should each add to 1 as pairs (columns in the paper's table)\n",
    "    \n",
    "    # Make graph for circuit input\n",
    "    ProbA1, ProbA0 = get_probabilities_2state_sys(Astates)\n",
    "    ProbB1, ProbB0 = get_probabilities_2state_sys(Bstates)\n",
    "    \n",
    "    graph = { 'StayAtHome': ([], [ProbA0, ProbA1]), # P(A = 0), P(A = 1)\n",
    "                'Testing': ([], [ProbB0, ProbB1]),  #P(B = 0), P(B = 1)\n",
    "                #P(C=0|A=0,B=0), P(C=1|A=0,B=0), P(C=0|A=0,B=1), P(C=1|A=0,B=1), P(C=0|A=1,B=0), P(C=1|A=1,B=0), P(C=0|A=1,B=1), P(C=1|A=1,B=1)\n",
    "                'Cases': (['StayAtHome','Testing'], [P000, P100, P010, P110, P001, P101, P011, P111])\n",
    "              }\n",
    "    \n",
    "    return states, conditional_probabilities, graph"
   ]
  },
  {
   "cell_type": "code",
   "execution_count": 19,
   "metadata": {},
   "outputs": [],
   "source": [
    "def Margies_marginal_probabilities(ntwk_results): #a combined version of this with Ella's is kept in the real code\n",
    "    #ntwk_results: dict, counts resulting from network run (should have 2^n entries)\n",
    "    #marg_probs: array of length n, marginal probabilities that each qubit is 0,\n",
    "        #from most significant to least significant\n",
    "    \n",
    "    n = len(list(ntwk_results.keys())[0])\n",
    "    prob = np.zeros(n)\n",
    "    total = sum(ntwk_results.values())\n",
    "\n",
    "    for i in range(n):\n",
    "        for key in ntwk_results:\n",
    "            if int(key[i]) == 0:\n",
    "                prob[i] += ntwk_results[key]\n",
    "        prob[i] = prob[i]/total\n",
    "    \n",
    "    return prob"
   ]
  },
  {
   "cell_type": "code",
   "execution_count": 20,
   "metadata": {},
   "outputs": [],
   "source": [
    "def Ella_3qubit_marginal_probabilities(pstates_dict):\n",
    "    # Works for 3 qubits only\n",
    "    C0, B0, A0, numtot = 0, 0, 0, 0\n",
    "\n",
    "    for key in pstates_dict:\n",
    "        Cstate=key[0]\n",
    "        Bstate=key[1]\n",
    "        Astate=key[2]\n",
    "        numtot += pstates_dict[key]\n",
    "        if Cstate == '0':\n",
    "            C0 += pstates_dict[key]\n",
    "        if Bstate == '0':\n",
    "            B0 += pstates_dict[key]\n",
    "        if Astate == '0':\n",
    "            A0 += pstates_dict[key]\n",
    "        \n",
    "    ProbC0 = C0/numtot\n",
    "    ProbB0 = B0/numtot\n",
    "    ProbA0 = A0/numtot\n",
    "\n",
    "    return ProbC0, ProbB0, ProbA0"
   ]
  },
  {
   "cell_type": "code",
   "execution_count": 21,
   "metadata": {},
   "outputs": [],
   "source": [
    "def Ella_marginal_probabilities_general(pstates_dict):\n",
    "    \"\"\"Works for n qubits\"\"\"\n",
    "    n = len(list(pstates_dict.keys())[0]) #number of qubits in state\n",
    "    Probs = np.empty(n)\n",
    "    numZeros, numtot = np.zeros(n), 0\n",
    "\n",
    "    for key in pstates_dict:\n",
    "        numtot += pstates_dict[key]\n",
    "        for i in range(n):\n",
    "            #print(i)\n",
    "            state=key[i]\n",
    "            if state == '0':\n",
    "                numZeros[i] += pstates_dict[key]\n",
    "    for i in range(n):\n",
    "        Probs[i] = numZeros[i]/numtot\n",
    "\n",
    "    return Probs"
   ]
  },
  {
   "cell_type": "code",
   "execution_count": 22,
   "metadata": {},
   "outputs": [
    {
     "name": "stdout",
     "output_type": "stream",
     "text": [
      "[0.73181152 0.62390137 0.65820312]\n"
     ]
    }
   ],
   "source": [
    "# Test the marginal prob functions with some simulated output from our 3 qubit run!\n",
    "\n",
    "#pick the function to use (comment others out)\n",
    "funct = Ella_marginal_probabilities_general\n",
    "#funct = Ella_3qubit_marginal_probabilities\n",
    "#funct = Margies_marginal_probabilities\n",
    "\n",
    "result1 = {'000': 2783, '001': 1240, '100': 603, '111': 815, '110': 294, '010': 1712, '101': 485, '011': 260}\n",
    "print(funct(result1))"
   ]
  },
  {
   "cell_type": "code",
   "execution_count": 23,
   "metadata": {},
   "outputs": [],
   "source": [
    "def get_lesser_model_states():\n",
    "    statedataStayHome = {'MarHome' : data['MarHome'], 'AprHome' : data['AprHome'], 'MayHome' : data['MayHome'], 'JunHome' : data['JunHome']}\n",
    "    statesStayHome = pd.DataFrame(data=statedataStayHome)\n",
    "\n",
    "    statedataTests = {'MarTest' : data['MarTest'], 'AprTest' : data['AprTest'], 'MayTest' : data['MayTest'], 'JunTest' : data['JunTest']}\n",
    "    statesTests = pd.DataFrame(data=statedataTests)\n",
    "\n",
    "    statedataCases = {'MarCases' : data['MarCases'], 'AprCases' : data['AprCases'], 'MayCases' : data['MayCases'], 'JunCases' : data['JunCases']}\n",
    "    statesCases = pd.DataFrame(data=statedataCases) # 0 = increasing. 1 = flat or decreasing\n",
    "    \n",
    "    return statesStayHome, statesTests, statesCases"
   ]
  },
  {
   "cell_type": "code",
   "execution_count": 24,
   "metadata": {},
   "outputs": [
    {
     "name": "stdout",
     "output_type": "stream",
     "text": [
      "(array(['0|00', '1|00', '0|01', '1|01', '0|10', '1|10', '0|11', '1|11'],\n",
      "      dtype='<U4'), array([0.81818182, 0.18181818, 0.70689655, 0.29310345, 0.84126984,\n",
      "       0.15873016, 0.23076923, 0.76923077]), {'StayAtHome': ([], [0.645, 0.355]), 'Testing': ([], [0.62, 0.38]), 'Cases': (['StayAtHome', 'Testing'], [0.8181818181818182, 0.18181818181818182, 0.8412698412698413, 0.15873015873015872, 0.7068965517241379, 0.29310344827586204, 0.23076923076923078, 0.7692307692307693])})\n"
     ]
    }
   ],
   "source": [
    "data = pd.read_csv('data/lesser_model_data.csv')\n",
    "Astates, Bstates, Cstates = get_lesser_model_states()\n",
    "print(get_conditional_probability_2parent_2state(Astates, Bstates, Cstates))"
   ]
  },
  {
   "cell_type": "code",
   "execution_count": null,
   "metadata": {},
   "outputs": [],
   "source": [
    "\"\"\" # ALTERNATE SECTION OF GENERALIZED CONDITIONAL PROBABILITY CODE TO CONSIDER SHORTENING BY LIKE 3 LINES\n",
    "\n",
    "def f(c, *ps):\n",
    "\tfor key in keys:\n",
    "\t\tnum_c, tot_c = 0, 0\n",
    "\t\tn = len(c)\n",
    "\t\tfor i in range(n):\n",
    "\t\t\tall_ps = all([ps[j][i] == key[j] for j in range(len(ps))])\n",
    "\t\t\tif all_ps:\n",
    "\t\t\t\ttot_c += 1\n",
    "\t\t\t\tif c[i] == thing before |:\n",
    "\t\t\t\t\tnum_c += 1\n",
    "\n",
    "\"\"\""
   ]
  }
 ],
 "metadata": {
  "kernelspec": {
   "display_name": "Python 3",
   "language": "python",
   "name": "python3"
  },
  "language_info": {
   "codemirror_mode": {
    "name": "ipython",
    "version": 3
   },
   "file_extension": ".py",
   "mimetype": "text/x-python",
   "name": "python",
   "nbconvert_exporter": "python",
   "pygments_lexer": "ipython3",
   "version": "3.7.6"
  }
 },
 "nbformat": 4,
 "nbformat_minor": 4
}
